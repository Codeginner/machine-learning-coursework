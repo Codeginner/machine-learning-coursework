{
  "cells": [
    {
      "cell_type": "markdown",
      "metadata": {
        "id": "view-in-github",
        "colab_type": "text"
      },
      "source": [
        "<a href=\"https://colab.research.google.com/github/Codeginner/machineLearning-task/blob/main/UAS/PyTorch/Chapter%2001/Code_Chapter_01_pytorch_workflow_fundamentals.ipynb\" target=\"_parent\"><img src=\"https://colab.research.google.com/assets/colab-badge.svg\" alt=\"Open In Colab\"/></a>"
      ]
    },
    {
      "cell_type": "markdown",
      "source": [
        "Nama: Gilman Muslih Z\n",
        "\n",
        "NIM: 1103201075\n",
        "\n",
        "Codes Chapter 01 - PyTorch Workflow Fundamental"
      ],
      "metadata": {
        "id": "S_VVdyrN-Oa8"
      }
    },
    {
      "cell_type": "code",
      "execution_count": null,
      "metadata": {
        "id": "nGM1dEsYec0u"
      },
      "outputs": [],
      "source": [
        "what_were_covering = {1: \"data (prepare and load)\",\n",
        "    2: \"build model\",\n",
        "    3: \"fitting the model to data (training)\",\n",
        "    4: \"making predictions and evaluating a model (inference)\",\n",
        "    5: \"saving and loading a model\",\n",
        "    6: \"putting it all together\"\n",
        "}"
      ]
    },
    {
      "cell_type": "code",
      "execution_count": null,
      "metadata": {
        "colab": {
          "base_uri": "https://localhost:8080/",
          "height": 35
        },
        "id": "ZT_ikDC-ec0w",
        "outputId": "1f0b19d0-6e96-4cc9-b8e6-7adcb3f1da27"
      },
      "outputs": [
        {
          "data": {
            "text/plain": [
              "'1.12.1+cu113'"
            ]
          },
          "execution_count": 2,
          "metadata": {},
          "output_type": "execute_result"
        }
      ],
      "source": [
        "# import Library PyTorch dan cek versi\n",
        "import torch\n",
        "from torch import nn\n",
        "import matplotlib.pyplot as plt\n",
        "\n",
        "# Versi PyTorch\n",
        "torch.__version__\n"
      ]
    },
    {
      "cell_type": "markdown",
      "source": [
        "Menampilkan versi PyTorch yang diinstal."
      ],
      "metadata": {
        "id": "OOEzrjpfJkZo"
      }
    },
    {
      "cell_type": "code",
      "execution_count": null,
      "metadata": {
        "colab": {
          "base_uri": "https://localhost:8080/"
        },
        "id": "HmZWVNjGec0x",
        "outputId": "ef7c9d50-31d6-47b6-add9-2cd51694298f"
      },
      "outputs": [
        {
          "data": {
            "text/plain": [
              "(tensor([[0.0000],\n",
              "         [0.0200],\n",
              "         [0.0400],\n",
              "         [0.0600],\n",
              "         [0.0800],\n",
              "         [0.1000],\n",
              "         [0.1200],\n",
              "         [0.1400],\n",
              "         [0.1600],\n",
              "         [0.1800]]),\n",
              " tensor([[0.3000],\n",
              "         [0.3140],\n",
              "         [0.3280],\n",
              "         [0.3420],\n",
              "         [0.3560],\n",
              "         [0.3700],\n",
              "         [0.3840],\n",
              "         [0.3980],\n",
              "         [0.4120],\n",
              "         [0.4260]]))"
            ]
          },
          "execution_count": 3,
          "metadata": {},
          "output_type": "execute_result"
        }
      ],
      "source": [
        "# Membuat parameter *known*\n",
        "weight = 0.7\n",
        "bias = 0.3\n",
        "\n",
        "# Membuat data\n",
        "start = 0\n",
        "end = 1\n",
        "step = 0.02\n",
        "X = torch.arange(start, end, step).unsqueeze(dim=1)\n",
        "y = weight * X + bias\n",
        "\n",
        "X[:10], y[:10]\n"
      ]
    },
    {
      "cell_type": "markdown",
      "source": [
        "Menampilkan beberapa elemen pertama dari data X dan hasilnya y.\n",
        "\n",
        "Kode ini membuat data linier dengan parameter bobot dan bias yang diketahui, kemudian menampilkan beberapa elemen pertama dari data dan hasilnya.\n",
        "\n"
      ],
      "metadata": {
        "id": "Wn48PDAEMMZN"
      }
    },
    {
      "cell_type": "code",
      "execution_count": null,
      "metadata": {
        "colab": {
          "base_uri": "https://localhost:8080/"
        },
        "id": "BpyB7JgHec0y",
        "outputId": "a859f5c1-37ed-4a9a-b139-20a1107077ed"
      },
      "outputs": [
        {
          "data": {
            "text/plain": [
              "(40, 40, 10, 10)"
            ]
          },
          "execution_count": 4,
          "metadata": {},
          "output_type": "execute_result"
        }
      ],
      "source": [
        "# Membuat train/test split\n",
        "train_split = int(0.8 * len(X))\n",
        "X_train, y_train = X[:train_split], y[:train_split]\n",
        "X_test, y_test = X[train_split:], y[train_split:]\n",
        "\n",
        "len(X_train), len(y_train), len(X_test), len(y_test)\n"
      ]
    },
    {
      "cell_type": "markdown",
      "source": [
        "Menampilkan panjang data untuk training set dan test set.\n",
        "\n",
        "Kode ini membagi data menjadi train set dan test set, kemudian menampilkan panjang masing-masing set"
      ],
      "metadata": {
        "id": "6641I-ywMtdk"
      }
    },
    {
      "cell_type": "code",
      "execution_count": null,
      "metadata": {
        "id": "w9Ep0T-Dec0y"
      },
      "outputs": [],
      "source": [
        "# Fungsi untuk plot training data, test data, dan predictions\n",
        "def plot_predictions(train_data=X_train,\n",
        "                     train_labels=y_train,\n",
        "                     test_data=X_test,\n",
        "                     test_labels=y_test,\n",
        "                     predictions=None):\n",
        "    plt.figure(figsize=(10, 7))\n",
        "    plt.scatter(train_data, train_labels, c=\"b\", s=4, label=\"Training data\")\n",
        "    plt.scatter(test_data, test_labels, c=\"g\", s=4, label=\"Testing data\")\n",
        "\n",
        "    if predictions is not None:\n",
        "        plt.scatter(test_data, predictions, c=\"r\", s=4, label=\"Predictions\")\n",
        "\n",
        "    plt.legend(prop={\"size\": 14})\n",
        "\n",
        "plot_predictions();\n"
      ]
    },
    {
      "cell_type": "markdown",
      "source": [
        "Kode ini mendefinisikan fungsi plot_predictions untuk memplot data training, testing, dan prediksi"
      ],
      "metadata": {
        "id": "iWUtIfJhNLZ8"
      }
    },
    {
      "cell_type": "code",
      "execution_count": null,
      "metadata": {
        "id": "jhcUJBFuec00"
      },
      "outputs": [],
      "source": [
        "# Membuat kelas model Linear Regression\n",
        "class LinearRegressionModel(nn.Module):\n",
        "    def __init__(self):\n",
        "        super().__init__()\n",
        "        self.weights = nn.Parameter(torch.randn(1, dtype=torch.float), requires_grad=True)\n",
        "        self.bias = nn.Parameter(torch.randn(1, dtype=torch.float), requires_grad=True)\n",
        "\n",
        "    def forward(self, x: torch.Tensor) -> torch.Tensor:\n",
        "        return self.weights * x + self.bias\n",
        "\n",
        "# Set manual seed untuk konsistensi\n",
        "torch.manual_seed(42)\n",
        "\n",
        "# Membuat instance dari model\n",
        "model_0 = LinearRegressionModel()\n",
        "\n",
        "# Menampilkan parameter model\n",
        "list(model_0.parameters())\n"
      ]
    },
    {
      "cell_type": "markdown",
      "source": [
        "Menampilkan parameter dari model Linear Regression.\n",
        "\n",
        "Kode ini mendefinisikan model Linear Regression menggunakan PyTorch dan menampilkan parameter dari model tersebut.\n",
        "\n"
      ],
      "metadata": {
        "id": "C6tP_fPVNc8a"
      }
    },
    {
      "cell_type": "markdown",
      "metadata": {
        "id": "CNOmcQdSq34e"
      },
      "source": [
        "We can also get the state (what the model contains) of the model using [`.state_dict()`](https://pytorch.org/docs/stable/generated/torch.nn.Module.html#torch.nn.Module.state_dict)."
      ]
    },
    {
      "cell_type": "code",
      "execution_count": null,
      "metadata": {
        "colab": {
          "base_uri": "https://localhost:8080/"
        },
        "id": "XC1N_1Qrec01",
        "outputId": "7e35b61c-371e-4d28-ae02-c1981afc1bbb"
      },
      "outputs": [
        {
          "data": {
            "text/plain": [
              "OrderedDict([('weights', tensor([0.3367])), ('bias', tensor([0.1288]))])"
            ]
          },
          "execution_count": 9,
          "metadata": {},
          "output_type": "execute_result"
        }
      ],
      "source": [
        "# Menampilkan state (informasi) dari model\n",
        "model_0.state_dict()\n"
      ]
    },
    {
      "cell_type": "markdown",
      "source": [
        "Menampilkan state dari model.\n",
        "\n",
        "Kode ini menampilkan state atau informasi dari model.\n",
        "\n"
      ],
      "metadata": {
        "id": "oUVbH0LiN2-3"
      }
    },
    {
      "cell_type": "code",
      "execution_count": null,
      "metadata": {
        "id": "-ITlZgU5ec02"
      },
      "outputs": [],
      "source": [
        "# Melakukan prediksi dengan model\n",
        "with torch.inference_mode():\n",
        "    y_preds = model_0(X_test)\n",
        "\n",
        "# Menampilkan hasil prediksi\n",
        "print(f\"Number of testing samples: {len(X_test)}\")\n",
        "print(f\"Number of predictions made: {len(y_preds)}\")\n",
        "print(f\"Predicted values:\\n{y_preds}\")\n",
        "\n",
        "plot_predictions(predictions=y_preds)\n",
        "\n",
        "# Note: in older PyTorch code you might also see torch.no_grad()\n",
        "# with torch.no_grad():\n",
        "#   y_preds = model_0(X_test)"
      ]
    },
    {
      "cell_type": "markdown",
      "source": [
        "Melakukan prediksi menggunakan model dan menampilkan hasil prediksi serta memplotnya."
      ],
      "metadata": {
        "id": "bvHqK_TZN9yR"
      }
    },
    {
      "cell_type": "code",
      "execution_count": null,
      "metadata": {
        "colab": {
          "base_uri": "https://localhost:8080/"
        },
        "id": "JLJWVANkhY3-",
        "outputId": "ed29f680-d66f-4bbd-b1b3-b35655ca4fec"
      },
      "outputs": [
        {
          "data": {
            "text/plain": [
              "tensor([[0.4618],\n",
              "        [0.4691],\n",
              "        [0.4764],\n",
              "        [0.4836],\n",
              "        [0.4909],\n",
              "        [0.4982],\n",
              "        [0.5054],\n",
              "        [0.5127],\n",
              "        [0.5200],\n",
              "        [0.5272]])"
            ]
          },
          "execution_count": 13,
          "metadata": {},
          "output_type": "execute_result"
        }
      ],
      "source": [
        "# menampilkan perbedaan antara nilai sebenarnya dan nilai prediksi\n",
        "y_test - y_preds"
      ]
    },
    {
      "cell_type": "markdown",
      "source": [
        "Menampilkan perbedaan antara nilai sebenarnya (y_test) dan nilai prediksi (y_preds).\n",
        "\n",
        "\n"
      ],
      "metadata": {
        "id": "Cn4u6SDXOL5e"
      }
    },
    {
      "cell_type": "code",
      "execution_count": null,
      "metadata": {
        "id": "P3T7hpNPec03"
      },
      "outputs": [],
      "source": [
        "# Membuat loss function\n",
        "loss_fn = nn.L1Loss()\n",
        "\n",
        "# Membuat optimizer\n",
        "optimizer = torch.optim.SGD(params=model_0.parameters(), lr=0.01)\n",
        "\n",
        "torch.manual_seed(42)\n",
        "\n",
        "# Menentukan jumlah epoch\n",
        "epochs = 100\n",
        "\n",
        "# List kosong untuk menyimpan nilai loss\n",
        "train_loss_values = []\n",
        "test_loss_values = []\n",
        "epoch_count = []\n",
        "\n",
        "# Melakukan training model\n",
        "for epoch in range(epochs):\n",
        "    # Mode training\n",
        "    model_0.train()\n",
        "\n",
        "    # Forward pass pada data training\n",
        "    y_pred = model_0(X_train)\n",
        "\n",
        "    # Menghitung loss\n",
        "    loss = loss_fn(y_pred, y_train)\n",
        "\n",
        "    # Zero grad optimizer\n",
        "    optimizer.zero_grad()\n",
        "\n",
        "    # Backward pass\n",
        "    loss.backward()\n",
        "\n",
        "    # Update parameter dengan optimizer\n",
        "    optimizer.step()\n",
        "\n",
        "    # Mode evaluasi\n",
        "    model_0.eval()\n",
        "\n",
        "    with torch.inference_mode():\n",
        "        # Forward pass pada data test\n",
        "        test_pred = model_0(X_test)\n",
        "\n",
        "        # Menghitung loss pada data test\n",
        "        test_loss = loss_fn(test_pred, y_test.type(torch.float))\n",
        "\n",
        "        # Menampilkan loss\n",
        "        if epoch % 10 == 0:\n",
        "            epoch_count.append(epoch)\n",
        "            train_loss_values.append(loss.detach().numpy())\n",
        "            test_loss_values.append(test_loss.detach().numpy())\n",
        "            print(f\"Epoch: {epoch} | MAE Train Loss: {loss} | MAE Test Loss: {test_loss} \")\n"
      ]
    },
    {
      "cell_type": "markdown",
      "source": [
        "melatih model menggunakan metode Stochastic Gradient Descent (SGD) dan menampilkan loss pada setiap epoch"
      ],
      "metadata": {
        "id": "_Ec-TfKBOxLm"
      }
    },
    {
      "cell_type": "markdown",
      "metadata": {
        "id": "1krgBqXBdYHc"
      },
      "source": [
        "Oh would you look at that! Looks like our loss is going down with every epoch, let's plot it to find out."
      ]
    },
    {
      "cell_type": "code",
      "execution_count": null,
      "metadata": {
        "colab": {
          "base_uri": "https://localhost:8080/",
          "height": 295
        },
        "id": "FPXfvPLkau72",
        "outputId": "2f6b88b4-4c8e-48ad-eb99-27abd941993d"
      },
      "outputs": [
        {
          "data": {
            "image/png": "[encoded data removed]",
            "text/plain": [
              "<Figure size 432x288 with 1 Axes>"
            ]
          },
          "metadata": {
            "needs_background": "light"
          },
          "output_type": "display_data"
        }
      ],
      "source": [
        "# Menampilkan kurva loss\n",
        "plt.plot(epoch_count, train_loss_values, label=\"Train loss\")\n",
        "plt.plot(epoch_count, test_loss_values, label=\"Test loss\")\n",
        "plt.title(\"Training and test loss curves\")\n",
        "plt.ylabel(\"Loss\")\n",
        "plt.xlabel(\"Epochs\")\n",
        "plt.legend();\n"
      ]
    },
    {
      "cell_type": "markdown",
      "source": [
        "Menampilkan kurva loss pada training set dan test set.\n",
        "\n",
        "Kode ini memplot kurva loss pada training set dan test set untuk melihat bagaimana loss berkembang selama proses training.\n",
        "\n",
        "\n",
        "\n",
        "\n",
        "\n"
      ],
      "metadata": {
        "id": "G6vOV3WmPBzF"
      }
    },
    {
      "cell_type": "code",
      "execution_count": null,
      "metadata": {
        "colab": {
          "base_uri": "https://localhost:8080/"
        },
        "id": "Ci0W7kn5ec04",
        "outputId": "2c27ba8b-e388-484e-c59e-464fdb53d73e"
      },
      "outputs": [
        {
          "name": "stdout",
          "output_type": "stream",
          "text": [
            "The model learned the following values for weights and bias:\n",
            "OrderedDict([('weights', tensor([0.5784])), ('bias', tensor([0.3513]))])\n",
            "\n",
            "And the original values for weights and bias are:\n",
            "weights: 0.7, bias: 0.3\n"
          ]
        }
      ],
      "source": [
        "# Menampilkan nilai parameter yang dipelajari oleh model\n",
        "print(\"The model learned the following values for weights and bias:\")\n",
        "print(model_0.state_dict())\n",
        "print(\"\\nAnd the original values for weights and bias are:\")\n",
        "print(f\"weights: {weight}, bias: {bias}\")\n"
      ]
    },
    {
      "cell_type": "markdown",
      "source": [
        "menampilkan nilai parameter yang telah dipelajari oleh model dan membandingkannya dengan nilai parameter yang sebenarnya.\n",
        "\n"
      ],
      "metadata": {
        "id": "4CDYd0kPP-Fu"
      }
    },
    {
      "cell_type": "code",
      "execution_count": null,
      "metadata": {
        "colab": {
          "base_uri": "https://localhost:8080/"
        },
        "id": "xKKxSBVuec05",
        "outputId": "7a637fab-186e-4269-85a7-6dc28ee690e0"
      },
      "outputs": [
        {
          "data": {
            "text/plain": [
              "tensor([[0.8141],\n",
              "        [0.8256],\n",
              "        [0.8372],\n",
              "        [0.8488],\n",
              "        [0.8603],\n",
              "        [0.8719],\n",
              "        [0.8835],\n",
              "        [0.8950],\n",
              "        [0.9066],\n",
              "        [0.9182]])"
            ]
          },
          "execution_count": 18,
          "metadata": {},
          "output_type": "execute_result"
        }
      ],
      "source": [
        "# Setel model ke mode evaluasi\n",
        "model_0.eval()\n",
        "\n",
        "# Gunakan manajer konteks inference untuk membuat prediksi\n",
        "with torch.inference_mode():\n",
        "    y_preds = model_0(X_test)\n",
        "y_preds\n"
      ]
    },
    {
      "cell_type": "markdown",
      "source": [
        "Menampilkan prediksi yang dihasilkan oleh model.\n",
        "\n",
        "Kode ini mengatur model dalam mode evaluasi dan menggunakan context manager inference untuk melakukan prediksi pada data test"
      ],
      "metadata": {
        "id": "hnzinlRSQXQf"
      }
    },
    {
      "cell_type": "code",
      "execution_count": null,
      "metadata": {
        "colab": {
          "base_uri": "https://localhost:8080/",
          "height": 428
        },
        "id": "b_kBqpCfec05",
        "outputId": "b2e3870b-dfdf-4dbc-877c-a940cb732859"
      },
      "outputs": [
        {
          "data": {
            "image/png": "[encoded data removed]",
            "text/plain": [
              "<Figure size 720x504 with 1 Axes>"
            ]
          },
          "metadata": {
            "needs_background": "light"
          },
          "output_type": "display_data"
        }
      ],
      "source": [
        "plot_predictions(predictions=y_preds)\n"
      ]
    },
    {
      "cell_type": "markdown",
      "source": [
        "Menampilkan plot dari data training, data testing, dan prediksi yang dihasilkan oleh model.\n",
        "\n"
      ],
      "metadata": {
        "id": "0ZKtI6ZMQfFT"
      }
    },
    {
      "cell_type": "code",
      "execution_count": null,
      "metadata": {
        "colab": {
          "base_uri": "https://localhost:8080/"
        },
        "id": "qsQhY2S2jv90",
        "outputId": "a897070c-a843-4a7c-a06e-e6406206412c"
      },
      "outputs": [
        {
          "name": "stdout",
          "output_type": "stream",
          "text": [
            "Saving model to: models/01_pytorch_workflow_model_0.pth\n"
          ]
        }
      ],
      "source": [
        "# Membuat direktori untuk menyimpan model\n",
        "MODEL_PATH = Path(\"models\")\n",
        "MODEL_PATH.mkdir(parents=True, exist_ok=True)\n",
        "\n",
        "# Menentukan path untuk menyimpan model\n",
        "MODEL_NAME = \"01_pytorch_workflow_model_0.pth\"\n",
        "MODEL_SAVE_PATH = MODEL_PATH / MODEL_NAME\n",
        "\n",
        "# Menyimpan state_dict dari model\n",
        "print(f\"Saving model to: {MODEL_SAVE_PATH}\")\n",
        "torch.save(obj=model_0.state_dict(), f=MODEL_SAVE_PATH)\n",
        "\n",
        "# Menampilkan path file yang disimpan\n",
        "!ls -l models/01_pytorch_workflow_model_0.pth\n"
      ]
    },
    {
      "cell_type": "markdown",
      "source": [
        "Menampilkan path dari file model yang disimpan.\n",
        "\n",
        "Kode ini membuat direktori untuk menyimpan model, menentukan path file untuk menyimpan model, menyimpan state_dict dari model, dan menampilkan path file yang disimpan.\n",
        "\n"
      ],
      "metadata": {
        "id": "SX6O_mpIQjfi"
      }
    },
    {
      "cell_type": "code",
      "execution_count": null,
      "metadata": {
        "colab": {
          "base_uri": "https://localhost:8080/"
        },
        "id": "1xnh3cFDec06",
        "outputId": "7ef66bf8-122e-476a-ee86-b1c388d6167c"
      },
      "outputs": [
        {
          "data": {
            "text/plain": [
              "<All keys matched successfully>"
            ]
          },
          "execution_count": 22,
          "metadata": {},
          "output_type": "execute_result"
        }
      ],
      "source": [
        "# Menginstansiasi model baru (dengan bobot acak)\n",
        "loaded_model_0 = LinearRegressionModel()\n",
        "\n",
        "# Memuat state_dict dari model yang disimpan\n",
        "loaded_model_0.load_state_dict(torch.load(f=MODEL_SAVE_PATH))\n",
        "\n",
        "# 1. Menempatkan model yang dimuat dalam mode evaluasi\n",
        "loaded_model_0.eval()\n",
        "\n",
        "# 2. Menggunakan context manager inference untuk membuat prediksi\n",
        "with torch.inference_mode():\n",
        "    loaded_model_preds = loaded_model_0(X_test)\n",
        "loaded_model_preds\n"
      ]
    },
    {
      "cell_type": "markdown",
      "source": [
        "Menampilkan prediksi yang dihasilkan oleh model yang dimuat.\n",
        "\n",
        "Penjelasan: Kode ini menginstansiasi model baru, memuat state_dict dari model yang disimpan, mengatur model yang dimuat dalam mode evaluasi, dan menggunakan context manager inference untuk membuat prediksi menggunakan model yang dimuat.\n",
        "\n",
        "\n",
        "\n",
        "\n",
        "\n"
      ],
      "metadata": {
        "id": "6iKd0VfYRBso"
      }
    },
    {
      "cell_type": "markdown",
      "metadata": {
        "id": "e81XpN8WSSqn"
      },
      "source": [
        "Now we've made some predictions with the loaded model, let's see if they're the same as the previous predictions."
      ]
    },
    {
      "cell_type": "code",
      "execution_count": null,
      "metadata": {
        "colab": {
          "base_uri": "https://localhost:8080/"
        },
        "id": "il9gqj6Nec06",
        "outputId": "56210de9-9888-4e90-d2e7-6cd0de47f823"
      },
      "outputs": [
        {
          "data": {
            "text/plain": [
              "tensor([[True],\n",
              "        [True],\n",
              "        [True],\n",
              "        [True],\n",
              "        [True],\n",
              "        [True],\n",
              "        [True],\n",
              "        [True],\n",
              "        [True],\n",
              "        [True]])"
            ]
          },
          "execution_count": 24,
          "metadata": {},
          "output_type": "execute_result"
        }
      ],
      "source": [
        "# Membandingkan prediksi model sebelumnya dengan prediksi model yang dimuat (harusnya sama)\n",
        "y_preds == loaded_model_preds\n"
      ]
    },
    {
      "cell_type": "markdown",
      "source": [
        "Menampilkan hasil perbandingan antara prediksi model sebelumnya dan prediksi model yang dimuat.\n",
        "\n",
        "Kode ini membandingkan hasil prediksi dari model sebelumnya (y_preds) dengan model yang dimuat (loaded_model_preds). Hasilnya seharusnya sama.\n",
        "\n"
      ],
      "metadata": {
        "id": "NPHg1nniRrV7"
      }
    },
    {
      "cell_type": "code",
      "execution_count": null,
      "metadata": {
        "colab": {
          "base_uri": "https://localhost:8080/",
          "height": 35
        },
        "id": "8hZ3CWhAIpUF",
        "outputId": "60b4e98b-8d83-4573-cbe2-131df190b223"
      },
      "outputs": [
        {
          "data": {
            "text/plain": [
              "'1.12.1+cu113'"
            ]
          },
          "execution_count": 25,
          "metadata": {},
          "output_type": "execute_result"
        }
      ],
      "source": [
        "# Import PyTorch dan matplotlib\n",
        "import torch\n",
        "from torch import nn # nn contains all of PyTorch's building blocks for neural networks\n",
        "import matplotlib.pyplot as plt\n",
        "\n",
        "# Cek versi PyTorch\n",
        "torch.__version__\n"
      ]
    },
    {
      "cell_type": "markdown",
      "source": [
        "Menampilkan versi PyTorch yang diinstal.\n",
        "\n",
        "Kode ini mengimpor PyTorch dan matplotlib, serta menampilkan versi PyTorch yang diinstal.\n",
        "\n"
      ],
      "metadata": {
        "id": "XjNhMzb6RyFC"
      }
    },
    {
      "cell_type": "code",
      "execution_count": null,
      "metadata": {
        "colab": {
          "base_uri": "https://localhost:8080/"
        },
        "id": "sx2Zpb5sec06",
        "outputId": "88323445-9070-4b3d-a62a-3d924d8d6898"
      },
      "outputs": [
        {
          "name": "stdout",
          "output_type": "stream",
          "text": [
            "Using device: cuda\n"
          ]
        }
      ],
      "source": [
        "# Setup device agnostic code\n",
        "device = \"cuda\" if torch.cuda.is_available() else \"cpu\"\n",
        "print(f\"Using device: {device}\")\n"
      ]
    },
    {
      "cell_type": "markdown",
      "source": [
        "Menampilkan perangkat yang akan digunakan (GPU jika tersedia, jika tidak, CPU).\n",
        "\n",
        "Kode ini menentukan perangkat yang akan digunakan (GPU jika tersedia, jika tidak, CPU).\n",
        "\n"
      ],
      "metadata": {
        "id": "j6PupqvdR9IR"
      }
    },
    {
      "cell_type": "code",
      "execution_count": null,
      "metadata": {
        "colab": {
          "base_uri": "https://localhost:8080/"
        },
        "id": "lQoo65evec07",
        "outputId": "80c3f9b7-4d1d-4aef-fc19-7abceaf93eb2"
      },
      "outputs": [
        {
          "data": {
            "text/plain": [
              "(40, 40, 10, 10)"
            ]
          },
          "execution_count": 28,
          "metadata": {},
          "output_type": "execute_result"
        }
      ],
      "source": [
        "# Split data\n",
        "train_split = int(0.8 * len(X))\n",
        "X_train, y_train = X[:train_split], y[:train_split]\n",
        "X_test, y_test = X[train_split:], y[train_split:]\n",
        "\n",
        "len(X_train), len(y_train), len(X_test), len(y_test)\n"
      ]
    },
    {
      "cell_type": "markdown",
      "source": [
        "Menampilkan panjang data untuk training set dan test set.\n",
        "\n",
        "Kode ini membagi data menjadi training set dan test set, dan menampilkan panjang masing-masing set.\n",
        "\n"
      ],
      "metadata": {
        "id": "c6aCrxbiSCxL"
      }
    },
    {
      "cell_type": "code",
      "execution_count": null,
      "metadata": {
        "colab": {
          "base_uri": "https://localhost:8080/",
          "height": 428
        },
        "id": "gxhc0zCdec07",
        "outputId": "cc3cb921-0d25-4cec-d681-da102547bdb9"
      },
      "outputs": [
        {
          "data": {
            "image/png": "[encoded data removed]",
            "text/plain": [
              "<Figure size 720x504 with 1 Axes>"
            ]
          },
          "metadata": {
            "needs_background": "light"
          },
          "output_type": "display_data"
        }
      ],
      "source": [
        "# Catatan: Jika Anda mereset runtime, fungsi ini tidak akan berfungsi,\n",
        "# Anda harus menjalankan sel di atasnya di mana fungsi ini diinisialisasi.\n",
        "plot_predictions(X_train, y_train, X_test, y_test)\n"
      ]
    },
    {
      "cell_type": "markdown",
      "source": [
        "Menampilkan plot dari data training, data testing, dan prediksi yang dihasilkan oleh model.\n",
        "\n",
        "Kode ini memplot data training, data testing, dan prediksi yang dihasilkan oleh model. Jika Anda mereset runtime, pastikan untuk menjalankan kembali sel yang mengandung fungsi plot_predictions.\n",
        "\n",
        "\n"
      ],
      "metadata": {
        "id": "TgowEiWiSMp2"
      }
    },
    {
      "cell_type": "code",
      "execution_count": null,
      "metadata": {
        "colab": {
          "base_uri": "https://localhost:8080/"
        },
        "id": "6iOwqtFqec08",
        "outputId": "f7aabd1d-55a7-4f1e-c9b9-9db73d178aef"
      },
      "outputs": [
        {
          "data": {
            "text/plain": [
              "(LinearRegressionModelV2(\n",
              "   (linear_layer): Linear(in_features=1, out_features=1, bias=True)\n",
              " ),\n",
              " OrderedDict([('linear_layer.weight', tensor([[0.7645]])),\n",
              "              ('linear_layer.bias', tensor([0.8300]))]))"
            ]
          },
          "execution_count": 30,
          "metadata": {},
          "output_type": "execute_result"
        }
      ],
      "source": [
        "# Subclass nn.Module untuk membuat model\n",
        "class LinearRegressionModelV2(nn.Module):\n",
        "    def __init__(self):\n",
        "        super().__init__()\n",
        "        # Gunakan nn.Linear() untuk membuat parameter-parameter model\n",
        "        self.linear_layer = nn.Linear(in_features=1,\n",
        "                                      out_features=1)\n",
        "\n",
        "    # Tentukan komputasi maju (data input x melewati nn.Linear())\n",
        "    def forward(self, x: torch.Tensor) -> torch.Tensor:\n",
        "        return self.linear_layer(x)\n",
        "\n",
        "# Tetapkan seed manual saat membuat model (ini tidak selalu diperlukan tetapi digunakan untuk tujuan demonstrasi, cobalah komentari dan lihat apa yang terjadi)\n",
        "torch.manual_seed(42)\n",
        "model_1 = LinearRegressionModelV2()\n",
        "model_1, model_1.state_dict()\n"
      ]
    },
    {
      "cell_type": "markdown",
      "source": [
        "Menampilkan model Linear Regression yang baru dibuat dan state_dict-nya.\n",
        "\n",
        "Kode ini membuat model Linear Regression baru (model_1) dengan menggunakan subclass nn.Module yang telah ditentukan sebelumnya.\n",
        "\n"
      ],
      "metadata": {
        "id": "2oOvs6jrTHF7"
      }
    },
    {
      "cell_type": "code",
      "execution_count": null,
      "metadata": {
        "colab": {
          "base_uri": "https://localhost:8080/"
        },
        "id": "HhCvYNpAec08",
        "outputId": "4d0d2c5f-4a9c-44a0-bda5-fd54d16cfa51"
      },
      "outputs": [
        {
          "data": {
            "text/plain": [
              "device(type='cpu')"
            ]
          },
          "execution_count": 31,
          "metadata": {},
          "output_type": "execute_result"
        }
      ],
      "source": [
        "# Cek model device\n",
        "next(model_1.parameters()).device"
      ]
    },
    {
      "cell_type": "markdown",
      "source": [
        "Menampilkan perangkat (device) tempat model berada.\n",
        "\n",
        "Kode ini mengecek perangkat (device) tempat model berada. Pada contoh ini, model belum dipindahkan ke GPU, sehingga akan menunjukkan perangkat CPU.\n",
        "\n"
      ],
      "metadata": {
        "id": "pOsufniCTJOo"
      }
    },
    {
      "cell_type": "code",
      "execution_count": null,
      "metadata": {
        "colab": {
          "base_uri": "https://localhost:8080/"
        },
        "id": "JfTYec5Rec08",
        "outputId": "b0d331ba-56b9-4f18-f93d-de7965de41dd"
      },
      "outputs": [
        {
          "data": {
            "text/plain": [
              "device(type='cuda', index=0)"
            ]
          },
          "execution_count": 32,
          "metadata": {},
          "output_type": "execute_result"
        }
      ],
      "source": [
        "# Pindahkan model ke GPU jika tersedia, jika tidak akan menggunakan CPU secara default\n",
        "model_1.to(device) # variabel device diatur sebelumnya menjadi \"cuda\" jika tersedia atau \"cpu\" jika tidak\n",
        "next(model_1.parameters()).device\n"
      ]
    },
    {
      "cell_type": "markdown",
      "source": [
        "Menampilkan perangkat (device) setelah model dipindahkan ke GPU jika tersedia.\n",
        "\n",
        "Kode ini memindahkan model ke perangkat yang telah ditentukan sebelumnya (device), yang bisa berupa GPU jika tersedia atau CPU jika tidak.\n",
        "\n"
      ],
      "metadata": {
        "id": "eVNPf6WFTRvE"
      }
    },
    {
      "cell_type": "code",
      "execution_count": null,
      "metadata": {
        "id": "ZRgqFKrNec09"
      },
      "outputs": [],
      "source": [
        "# Membuat loss function\n",
        "loss_fn = nn.L1Loss()\n",
        "\n",
        "# Membuat optimizer\n",
        "optimizer = torch.optim.SGD(params=model_1.parameters(), # optimize newly created model's parameters\n",
        "                            lr=0.01)"
      ]
    },
    {
      "cell_type": "markdown",
      "source": [
        "proses pembuatan loss function dan optimizer.\n",
        "\n",
        "Kode ini membuat loss function menggunakan L1Loss (Mean Absolute Error) dan optimizer menggunakan Stochastic Gradient Descent (SGD) untuk mengoptimalkan parameter-parameter model.\n",
        "\n"
      ],
      "metadata": {
        "id": "inJPiQ7VTWfQ"
      }
    },
    {
      "cell_type": "code",
      "execution_count": null,
      "metadata": {
        "colab": {
          "base_uri": "https://localhost:8080/"
        },
        "id": "JDOHzX8lec09",
        "outputId": "23ee6dda-7145-463c-e684-d65ba6874757"
      },
      "outputs": [
        {
          "name": "stdout",
          "output_type": "stream",
          "text": [
            "Epoch: 0 | Train loss: 0.5551779866218567 | Test loss: 0.5739762187004089\n",
            "Epoch: 100 | Train loss: 0.006215683650225401 | Test loss: 0.014086711220443249\n",
            "Epoch: 200 | Train loss: 0.0012645035749301314 | Test loss: 0.013801801018416882\n",
            "Epoch: 300 | Train loss: 0.0012645035749301314 | Test loss: 0.013801801018416882\n",
            "Epoch: 400 | Train loss: 0.0012645035749301314 | Test loss: 0.013801801018416882\n",
            "Epoch: 500 | Train loss: 0.0012645035749301314 | Test loss: 0.013801801018416882\n",
            "Epoch: 600 | Train loss: 0.0012645035749301314 | Test loss: 0.013801801018416882\n",
            "Epoch: 700 | Train loss: 0.0012645035749301314 | Test loss: 0.013801801018416882\n",
            "Epoch: 800 | Train loss: 0.0012645035749301314 | Test loss: 0.013801801018416882\n",
            "Epoch: 900 | Train loss: 0.0012645035749301314 | Test loss: 0.013801801018416882\n"
          ]
        }
      ],
      "source": [
        "# Set seed agar hasil training dapat direproduksi\n",
        "torch.manual_seed(42)\n",
        "\n",
        "# Tentukan jumlah epochs\n",
        "epochs = 1000\n",
        "\n",
        "# Pindahkan data ke perangkat yang tersedia\n",
        "# Tanpa ini, akan terjadi error (tidak semua model/data berada di perangkat yang sama)\n",
        "X_train = X_train.to(device)\n",
        "X_test = X_test.to(device)\n",
        "y_train = y_train.to(device)\n",
        "y_test = y_test.to(device)\n",
        "\n",
        "for epoch in range(epochs):\n",
        "    ### Pelatihan\n",
        "    model_1.train() # Mode pelatihan aktif secara default setelah konstruksi model\n",
        "\n",
        "    # 1. Forward pass\n",
        "    y_pred = model_1(X_train)\n",
        "\n",
        "    # 2. Hitung loss\n",
        "    loss = loss_fn(y_pred, y_train)\n",
        "\n",
        "    # 3. Reset gradien optimizer\n",
        "    optimizer.zero_grad()\n",
        "\n",
        "    # 4. Backward pass untuk perhitungan gradien\n",
        "    loss.backward()\n",
        "\n",
        "    # 5. Optimasi parameter model\n",
        "    optimizer.step()\n",
        "\n",
        "    ### Pengujian\n",
        "    model_1.eval() # Pindahkan model ke mode evaluasi untuk pengujian (inference)\n",
        "    # 1. Forward pass\n",
        "    with torch.inference_mode():\n",
        "        test_pred = model_1(X_test)\n",
        "\n",
        "        # 2. Hitung loss pada data uji\n",
        "        test_loss = loss_fn(test_pred, y_test)\n",
        "\n",
        "    # Tampilkan hasil setiap 100 epochs\n",
        "    if epoch % 100 == 0:\n",
        "        print(f\"Epoch: {epoch} | Train loss: {loss} | Test loss: {test_loss}\")\n"
      ]
    },
    {
      "cell_type": "markdown",
      "source": [
        "Menampilkan loss pada setiap epoch selama proses training.\n",
        "\n",
        "Kode di atas melatih model dengan melakukan iterasi sejumlah epochs, di mana setiap iterasi terdiri dari tahapan forward pass, perhitungan loss, backward pass, dan optimasi.\n",
        "\n"
      ],
      "metadata": {
        "id": "QWp1_bqzTaCn"
      }
    },
    {
      "cell_type": "code",
      "execution_count": null,
      "metadata": {
        "colab": {
          "base_uri": "https://localhost:8080/"
        },
        "id": "TP_tFn5rec09",
        "outputId": "53b6c53a-1bab-4f13-e09a-c9473200af39"
      },
      "outputs": [
        {
          "name": "stdout",
          "output_type": "stream",
          "text": [
            "The model learned the following values for weights and bias:\n",
            "OrderedDict([('linear_layer.weight', tensor([[0.6968]], device='cuda:0')),\n",
            "             ('linear_layer.bias', tensor([0.3025], device='cuda:0'))])\n",
            "\n",
            "And the original values for weights and bias are:\n",
            "weights: 0.7, bias: 0.3\n"
          ]
        }
      ],
      "source": [
        "# Find our model's learned parameters\n",
        "from pprint import pprint # pprint = pretty print, see: https://docs.python.org/3/library/pprint.html\n",
        "print(\"The model learned the following values for weights and bias:\")\n",
        "pprint(model_1.state_dict())\n",
        "print(\"\\nAnd the original values for weights and bias are:\")\n",
        "print(f\"weights: {weight}, bias: {bias}\")"
      ]
    },
    {
      "cell_type": "markdown",
      "source": [
        "Menampilkan nilai parameter yang telah dipelajari oleh model dan nilai parameter sebenarnya.\n",
        "\n",
        "Kode ini menampilkan nilai parameter yang telah dipelajari oleh model (model_1) dan membandingkannya dengan nilai parameter sebenarnya.\n",
        "\n"
      ],
      "metadata": {
        "id": "Vw2PiJ8QTgle"
      }
    },
    {
      "cell_type": "code",
      "execution_count": null,
      "metadata": {
        "colab": {
          "base_uri": "https://localhost:8080/"
        },
        "id": "ksqG5N5Iec09",
        "outputId": "a0d4a51f-e1d9-4038-fd8a-0bbf4386f36a"
      },
      "outputs": [
        {
          "data": {
            "text/plain": [
              "tensor([[0.8600],\n",
              "        [0.8739],\n",
              "        [0.8878],\n",
              "        [0.9018],\n",
              "        [0.9157],\n",
              "        [0.9296],\n",
              "        [0.9436],\n",
              "        [0.9575],\n",
              "        [0.9714],\n",
              "        [0.9854]], device='cuda:0')"
            ]
          },
          "execution_count": 36,
          "metadata": {},
          "output_type": "execute_result"
        }
      ],
      "source": [
        "# Turn model into evaluation mode\n",
        "model_1.eval()\n",
        "\n",
        "# Make predictions on the test data\n",
        "with torch.inference_mode():\n",
        "    y_preds = model_1(X_test)\n",
        "y_preds"
      ]
    },
    {
      "cell_type": "markdown",
      "source": [
        "Menampilkan prediksi yang dihasilkan oleh model setelah proses training.\n",
        "\n",
        "Kode ini mengubah model ke dalam mode evaluasi dan membuat prediksi pada data test.\n",
        "\n"
      ],
      "metadata": {
        "id": "xZWrWIWlTkV5"
      }
    },
    {
      "cell_type": "code",
      "execution_count": null,
      "metadata": {
        "colab": {
          "base_uri": "https://localhost:8080/",
          "height": 428
        },
        "id": "Z4dmfr2bec09",
        "outputId": "dd68d5a7-1733-4385-c1cb-7d7b44085813"
      },
      "outputs": [
        {
          "data": {
            "image/png": "[encoded data removed]",
            "text/plain": [
              "<Figure size 720x504 with 1 Axes>"
            ]
          },
          "metadata": {
            "needs_background": "light"
          },
          "output_type": "display_data"
        }
      ],
      "source": [
        "# plot_predictions(predictions=y_preds) # -> won't work... data not on CPU\n",
        "\n",
        "# Put data on the CPU and plot it\n",
        "plot_predictions(predictions=y_preds.cpu())"
      ]
    },
    {
      "cell_type": "markdown",
      "source": [
        "Menampilkan plot dari data training, data testing, dan prediksi yang dihasilkan oleh model.\n",
        "\n",
        "Kode ini mencoba untuk memplot hasil prediksi, namun perlu dilakukan transfer data dari GPU ke CPU sebelum memplot menggunakan fungsi plot_predictions."
      ],
      "metadata": {
        "id": "pxz9Rnu9TpBe"
      }
    },
    {
      "cell_type": "code",
      "execution_count": null,
      "metadata": {
        "colab": {
          "base_uri": "https://localhost:8080/"
        },
        "id": "DcQo4JqL7eSU",
        "outputId": "e43ada0c-c074-4b50-9207-fa01581b1d5f"
      },
      "outputs": [
        {
          "name": "stdout",
          "output_type": "stream",
          "text": [
            "Saving model to: models/01_pytorch_workflow_model_1.pth\n"
          ]
        }
      ],
      "source": [
        "from pathlib import Path\n",
        "\n",
        "# 1. Create models directory\n",
        "MODEL_PATH = Path(\"models\")\n",
        "MODEL_PATH.mkdir(parents=True, exist_ok=True)\n",
        "\n",
        "# 2. Create model save path\n",
        "MODEL_NAME = \"01_pytorch_workflow_model_1.pth\"\n",
        "MODEL_SAVE_PATH = MODEL_PATH / MODEL_NAME\n",
        "\n",
        "# 3. Save the model state dict\n",
        "print(f\"Saving model to: {MODEL_SAVE_PATH}\")\n",
        "torch.save(obj=model_1.state_dict(), # only saving the state_dict() only saves the models learned parameters\n",
        "           f=MODEL_SAVE_PATH)"
      ]
    },
    {
      "cell_type": "markdown",
      "source": [
        "Menyimpan model yang telah dilatih ke dalam file.\n",
        "\n",
        "Kode ini menyimpan model yang telah dilatih ke dalam file dengan menggunakan fungsi torch.save.\n",
        "\n"
      ],
      "metadata": {
        "id": "topAZyQYTyRD"
      }
    },
    {
      "cell_type": "code",
      "execution_count": null,
      "metadata": {
        "colab": {
          "base_uri": "https://localhost:8080/"
        },
        "id": "jMnVHzf1ec0-",
        "outputId": "76f10046-cd42-4b39-a372-aa95227828e8"
      },
      "outputs": [
        {
          "name": "stdout",
          "output_type": "stream",
          "text": [
            "Loaded model:\n",
            "LinearRegressionModelV2(\n",
            "  (linear_layer): Linear(in_features=1, out_features=1, bias=True)\n",
            ")\n",
            "Model on device:\n",
            "cuda:0\n"
          ]
        }
      ],
      "source": [
        "# Instantiate a fresh instance of LinearRegressionModelV2\n",
        "loaded_model_1 = LinearRegressionModelV2()\n",
        "\n",
        "# Load model state dict\n",
        "loaded_model_1.load_state_dict(torch.load(MODEL_SAVE_PATH))\n",
        "\n",
        "# Put model to target device (if your data is on GPU, model will have to be on GPU to make predictions)\n",
        "loaded_model_1.to(device)\n",
        "\n",
        "print(f\"Loaded model:\\n{loaded_model_1}\")\n",
        "print(f\"Model on device:\\n{next(loaded_model_1.parameters()).device}\")\n"
      ]
    },
    {
      "cell_type": "markdown",
      "source": [
        "Menampilkan model yang telah dimuat dan perangkat tempat model berada.\n",
        "\n",
        "Kode ini membuat model yang baru (loaded_model_1), memuat parameter-parameter yang telah dilatih sebelumnya, dan memindahkan model ke perangkat yang telah ditentukan sebelumnya (device).\n",
        "\n"
      ],
      "metadata": {
        "id": "VfFm6GpqS2As"
      }
    },
    {
      "cell_type": "markdown",
      "metadata": {
        "id": "Hv6EMEx99LV2"
      },
      "source": [
        "Now we can evaluate the loaded model to see if its predictions line up with the predictions made prior to saving."
      ]
    },
    {
      "cell_type": "code",
      "execution_count": null,
      "metadata": {
        "colab": {
          "base_uri": "https://localhost:8080/"
        },
        "id": "fYODT7ONec0_",
        "outputId": "c8184cd1-595a-43e4-8155-89dcecc4d0b0"
      },
      "outputs": [
        {
          "data": {
            "text/plain": [
              "tensor([[True],\n",
              "        [True],\n",
              "        [True],\n",
              "        [True],\n",
              "        [True],\n",
              "        [True],\n",
              "        [True],\n",
              "        [True],\n",
              "        [True],\n",
              "        [True]], device='cuda:0')"
            ]
          },
          "execution_count": 40,
          "metadata": {},
          "output_type": "execute_result"
        }
      ],
      "source": [
        "# Evaluasi loaded model\n",
        "loaded_model_1.eval()\n",
        "with torch.inference_mode():\n",
        "    loaded_model_1_preds = loaded_model_1(X_test)\n",
        "y_preds == loaded_model_1_preds\n"
      ]
    },
    {
      "cell_type": "markdown",
      "source": [
        "Menampilkan hasil perbandingan antara prediksi model sebelumnya dengan prediksi model yang dimuat.\n",
        "\n",
        "Kode ini mengevaluasi model yang telah dimuat dan membandingkan hasil prediksinya dengan model sebelumnya. Hasilnya seharusnya sama.\n",
        "\n",
        "\n",
        "\n",
        "\n",
        "\n"
      ],
      "metadata": {
        "id": "-0Nacj2DSrSs"
      }
    }
  ],
  "metadata": {
    "accelerator": "GPU",
    "colab": {
      "provenance": [],
      "include_colab_link": true
    },
    "interpreter": {
      "hash": "3fbe1355223f7b2ffc113ba3ade6a2b520cadace5d5ec3e828c83ce02eb221bf"
    },
    "kernelspec": {
      "display_name": "Python 3 (ipykernel)",
      "language": "python",
      "name": "python3"
    },
    "language_info": {
      "codemirror_mode": {
        "name": "ipython",
        "version": 3
      },
      "file_extension": ".py",
      "mimetype": "text/x-python",
      "name": "python",
      "nbconvert_exporter": "python",
      "pygments_lexer": "ipython3",
      "version": "3.7.4"
    }
  },
  "nbformat": 4,
  "nbformat_minor": 0
}