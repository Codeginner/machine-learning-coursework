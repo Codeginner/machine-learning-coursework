{
  "nbformat": 4,
  "nbformat_minor": 0,
  "metadata": {
    "colab": {
      "provenance": [],
      "mount_file_id": "1HcvN24edRFxal4A5AaNARoKw0jLYKfdl",
      "authorship_tag": "ABX9TyObuUa7QB3R5uWxg+i2Q+lY",
      "include_colab_link": true
    },
    "kernelspec": {
      "name": "python3",
      "display_name": "Python 3"
    },
    "language_info": {
      "name": "python"
    }
  },
  "cells": [
    {
      "cell_type": "markdown",
      "metadata": {
        "id": "view-in-github",
        "colab_type": "text"
      },
      "source": [
        "<a href=\"https://colab.research.google.com/github/Codeginner/machineLearning-task/blob/main/UTS/UTS_ML_Linear_Regression_Possum_Dataset/UTS_ML_Linear_Regression_Possum_Dataset.ipynb\" target=\"_parent\"><img src=\"https://colab.research.google.com/assets/colab-badge.svg\" alt=\"Open In Colab\"/></a>"
      ]
    },
    {
      "cell_type": "markdown",
      "source": [
        "**Nama: Gilman Muslih Z**\n",
        "\n",
        "**NIM: 1103201075**\n",
        "\n",
        "**Model: Linear Regression**\n",
        "\n",
        "**Dataset:** https://www.kaggle.com/datasets/abrambeyer/openintro-possum"
      ],
      "metadata": {
        "id": "7c6sMqR6QjQd"
      }
    },
    {
      "cell_type": "code",
      "execution_count": 217,
      "metadata": {
        "id": "nFKyhdQ0-c0y"
      },
      "outputs": [],
      "source": [
        "import pandas as pd # Mengimport library pandas untuk manipulasi dan analisis data tabular\n",
        "import numpy as np # Mengimport library numpy untuk operasi numerik dan manipulasi array\n",
        "import matplotlib.pyplot as plt # Mengimport modul pyplot dari library matplotlib untuk membuat visualisasi grafik\n",
        "import seaborn as sns # Mengimport library seaborn untuk membuat visualisasi statistik yang menarik\n",
        "from sklearn.model_selection import train_test_split # Fungsi ini digunakan untuk membagi dataset menjadi subset pelatihan dan pengujian\n",
        "from sklearn.linear_model import LinearRegression # Import model regresi linear untuk memodelkan hubungan linier antara fitur dan variabel target\n",
        "from sklearn.preprocessing import StandardScaler # Fungsi ini digunakan untuk melakukan penskalaan fitur sehingga distribusi setiap fitur memiliki rata-rata 0 dan deviasi standar 1\n",
        "from sklearn import metrics # Modul ini berisi berbagai metrik evaluasi yang digunakan untuk mengukur kinerja model"
      ]
    },
    {
      "cell_type": "markdown",
      "source": [
        "prompt: berikan kode untuk menghubungkan colab dengan google drive untuk mengakses dataset"
      ],
      "metadata": {
        "id": "ofUNE_qJSFRo"
      }
    },
    {
      "cell_type": "code",
      "source": [
        "# Mengimpor library untuk mengakses Google Drive dari Colab\n",
        "from google.colab import drive\n",
        "\n",
        "# Menghubungkan Colab dengan Google Drive\n",
        "drive.mount('/content/drive')\n",
        "\n",
        "# Path ke folder tempat dataset disimpan di Google Drive\n",
        "dataset_path = '/content/drive/MyDrive/Dataset/possum (1).csv'\n",
        "\n",
        "# Membaca dataset menggunakan pandas\n",
        "df = pd.read_csv(dataset_path)\n",
        "\n",
        "# Menampilkan beberapa baris pertama dataset\n",
        "df.head()"
      ],
      "metadata": {
        "colab": {
          "base_uri": "https://localhost:8080/",
          "height": 224
        },
        "id": "XLGFcF9Y-eZc",
        "outputId": "c0fb24aa-8e87-4060-be25-3c3b5b310088"
      },
      "execution_count": 218,
      "outputs": [
        {
          "output_type": "stream",
          "name": "stdout",
          "text": [
            "Drive already mounted at /content/drive; to attempt to forcibly remount, call drive.mount(\"/content/drive\", force_remount=True).\n"
          ]
        },
        {
          "output_type": "execute_result",
          "data": {
            "text/plain": [
              "   case  site  Pop sex  age  hdlngth  skullw  totlngth  taill  footlgth  \\\n",
              "0     1     1  Vic   m  8.0     94.1    60.4      89.0   36.0      74.5   \n",
              "1     2     1  Vic   f  6.0     92.5    57.6      91.5   36.5      72.5   \n",
              "2     3     1  Vic   f  6.0     94.0    60.0      95.5   39.0      75.4   \n",
              "3     4     1  Vic   f  6.0     93.2    57.1      92.0   38.0      76.1   \n",
              "4     5     1  Vic   f  2.0     91.5    56.3      85.5   36.0      71.0   \n",
              "\n",
              "   earconch   eye  chest  belly  \n",
              "0      54.5  15.2   28.0   36.0  \n",
              "1      51.2  16.0   28.5   33.0  \n",
              "2      51.9  15.5   30.0   34.0  \n",
              "3      52.2  15.2   28.0   34.0  \n",
              "4      53.2  15.1   28.5   33.0  "
            ],
            "text/html": [
              "\n",
              "  <div id=\"df-7d8c79bb-791e-46e3-b939-220f7e6c9fe2\" class=\"colab-df-container\">\n",
              "    <div>\n",
              "<style scoped>\n",
              "    .dataframe tbody tr th:only-of-type {\n",
              "        vertical-align: middle;\n",
              "    }\n",
              "\n",
              "    .dataframe tbody tr th {\n",
              "        vertical-align: top;\n",
              "    }\n",
              "\n",
              "    .dataframe thead th {\n",
              "        text-align: right;\n",
              "    }\n",
              "</style>\n",
              "<table border=\"1\" class=\"dataframe\">\n",
              "  <thead>\n",
              "    <tr style=\"text-align: right;\">\n",
              "      <th></th>\n",
              "      <th>case</th>\n",
              "      <th>site</th>\n",
              "      <th>Pop</th>\n",
              "      <th>sex</th>\n",
              "      <th>age</th>\n",
              "      <th>hdlngth</th>\n",
              "      <th>skullw</th>\n",
              "      <th>totlngth</th>\n",
              "      <th>taill</th>\n",
              "      <th>footlgth</th>\n",
              "      <th>earconch</th>\n",
              "      <th>eye</th>\n",
              "      <th>chest</th>\n",
              "      <th>belly</th>\n",
              "    </tr>\n",
              "  </thead>\n",
              "  <tbody>\n",
              "    <tr>\n",
              "      <th>0</th>\n",
              "      <td>1</td>\n",
              "      <td>1</td>\n",
              "      <td>Vic</td>\n",
              "      <td>m</td>\n",
              "      <td>8.0</td>\n",
              "      <td>94.1</td>\n",
              "      <td>60.4</td>\n",
              "      <td>89.0</td>\n",
              "      <td>36.0</td>\n",
              "      <td>74.5</td>\n",
              "      <td>54.5</td>\n",
              "      <td>15.2</td>\n",
              "      <td>28.0</td>\n",
              "      <td>36.0</td>\n",
              "    </tr>\n",
              "    <tr>\n",
              "      <th>1</th>\n",
              "      <td>2</td>\n",
              "      <td>1</td>\n",
              "      <td>Vic</td>\n",
              "      <td>f</td>\n",
              "      <td>6.0</td>\n",
              "      <td>92.5</td>\n",
              "      <td>57.6</td>\n",
              "      <td>91.5</td>\n",
              "      <td>36.5</td>\n",
              "      <td>72.5</td>\n",
              "      <td>51.2</td>\n",
              "      <td>16.0</td>\n",
              "      <td>28.5</td>\n",
              "      <td>33.0</td>\n",
              "    </tr>\n",
              "    <tr>\n",
              "      <th>2</th>\n",
              "      <td>3</td>\n",
              "      <td>1</td>\n",
              "      <td>Vic</td>\n",
              "      <td>f</td>\n",
              "      <td>6.0</td>\n",
              "      <td>94.0</td>\n",
              "      <td>60.0</td>\n",
              "      <td>95.5</td>\n",
              "      <td>39.0</td>\n",
              "      <td>75.4</td>\n",
              "      <td>51.9</td>\n",
              "      <td>15.5</td>\n",
              "      <td>30.0</td>\n",
              "      <td>34.0</td>\n",
              "    </tr>\n",
              "    <tr>\n",
              "      <th>3</th>\n",
              "      <td>4</td>\n",
              "      <td>1</td>\n",
              "      <td>Vic</td>\n",
              "      <td>f</td>\n",
              "      <td>6.0</td>\n",
              "      <td>93.2</td>\n",
              "      <td>57.1</td>\n",
              "      <td>92.0</td>\n",
              "      <td>38.0</td>\n",
              "      <td>76.1</td>\n",
              "      <td>52.2</td>\n",
              "      <td>15.2</td>\n",
              "      <td>28.0</td>\n",
              "      <td>34.0</td>\n",
              "    </tr>\n",
              "    <tr>\n",
              "      <th>4</th>\n",
              "      <td>5</td>\n",
              "      <td>1</td>\n",
              "      <td>Vic</td>\n",
              "      <td>f</td>\n",
              "      <td>2.0</td>\n",
              "      <td>91.5</td>\n",
              "      <td>56.3</td>\n",
              "      <td>85.5</td>\n",
              "      <td>36.0</td>\n",
              "      <td>71.0</td>\n",
              "      <td>53.2</td>\n",
              "      <td>15.1</td>\n",
              "      <td>28.5</td>\n",
              "      <td>33.0</td>\n",
              "    </tr>\n",
              "  </tbody>\n",
              "</table>\n",
              "</div>\n",
              "    <div class=\"colab-df-buttons\">\n",
              "\n",
              "  <div class=\"colab-df-container\">\n",
              "    <button class=\"colab-df-convert\" onclick=\"convertToInteractive('df-7d8c79bb-791e-46e3-b939-220f7e6c9fe2')\"\n",
              "            title=\"Convert this dataframe to an interactive table.\"\n",
              "            style=\"display:none;\">\n",
              "\n",
              "  <svg xmlns=\"http://www.w3.org/2000/svg\" height=\"24px\" viewBox=\"0 -960 960 960\">\n",
              "    <path d=\"M120-120v-720h720v720H120Zm60-500h600v-160H180v160Zm220 220h160v-160H400v160Zm0 220h160v-160H400v160ZM180-400h160v-160H180v160Zm440 0h160v-160H620v160ZM180-180h160v-160H180v160Zm440 0h160v-160H620v160Z\"/>\n",
              "  </svg>\n",
              "    </button>\n",
              "\n",
              "  <style>\n",
              "    .colab-df-container {\n",
              "      display:flex;\n",
              "      gap: 12px;\n",
              "    }\n",
              "\n",
              "    .colab-df-convert {\n",
              "      background-color: #E8F0FE;\n",
              "      border: none;\n",
              "      border-radius: 50%;\n",
              "      cursor: pointer;\n",
              "      display: none;\n",
              "      fill: #1967D2;\n",
              "      height: 32px;\n",
              "      padding: 0 0 0 0;\n",
              "      width: 32px;\n",
              "    }\n",
              "\n",
              "    .colab-df-convert:hover {\n",
              "      background-color: #E2EBFA;\n",
              "      box-shadow: 0px 1px 2px rgba(60, 64, 67, 0.3), 0px 1px 3px 1px rgba(60, 64, 67, 0.15);\n",
              "      fill: #174EA6;\n",
              "    }\n",
              "\n",
              "    .colab-df-buttons div {\n",
              "      margin-bottom: 4px;\n",
              "    }\n",
              "\n",
              "    [theme=dark] .colab-df-convert {\n",
              "      background-color: #3B4455;\n",
              "      fill: #D2E3FC;\n",
              "    }\n",
              "\n",
              "    [theme=dark] .colab-df-convert:hover {\n",
              "      background-color: #434B5C;\n",
              "      box-shadow: 0px 1px 3px 1px rgba(0, 0, 0, 0.15);\n",
              "      filter: drop-shadow(0px 1px 2px rgba(0, 0, 0, 0.3));\n",
              "      fill: #FFFFFF;\n",
              "    }\n",
              "  </style>\n",
              "\n",
              "    <script>\n",
              "      const buttonEl =\n",
              "        document.querySelector('#df-7d8c79bb-791e-46e3-b939-220f7e6c9fe2 button.colab-df-convert');\n",
              "      buttonEl.style.display =\n",
              "        google.colab.kernel.accessAllowed ? 'block' : 'none';\n",
              "\n",
              "      async function convertToInteractive(key) {\n",
              "        const element = document.querySelector('#df-7d8c79bb-791e-46e3-b939-220f7e6c9fe2');\n",
              "        const dataTable =\n",
              "          await google.colab.kernel.invokeFunction('convertToInteractive',\n",
              "                                                    [key], {});\n",
              "        if (!dataTable) return;\n",
              "\n",
              "        const docLinkHtml = 'Like what you see? Visit the ' +\n",
              "          '<a target=\"_blank\" href=https://colab.research.google.com/notebooks/data_table.ipynb>data table notebook</a>'\n",
              "          + ' to learn more about interactive tables.';\n",
              "        element.innerHTML = '';\n",
              "        dataTable['output_type'] = 'display_data';\n",
              "        await google.colab.output.renderOutput(dataTable, element);\n",
              "        const docLink = document.createElement('div');\n",
              "        docLink.innerHTML = docLinkHtml;\n",
              "        element.appendChild(docLink);\n",
              "      }\n",
              "    </script>\n",
              "  </div>\n",
              "\n",
              "\n",
              "<div id=\"df-bd6b1b3b-e42f-46f8-83c2-8a15ab58f9bd\">\n",
              "  <button class=\"colab-df-quickchart\" onclick=\"quickchart('df-bd6b1b3b-e42f-46f8-83c2-8a15ab58f9bd')\"\n",
              "            title=\"Suggest charts\"\n",
              "            style=\"display:none;\">\n",
              "\n",
              "<svg xmlns=\"http://www.w3.org/2000/svg\" height=\"24px\"viewBox=\"0 0 24 24\"\n",
              "     width=\"24px\">\n",
              "    <g>\n",
              "        <path d=\"M19 3H5c-1.1 0-2 .9-2 2v14c0 1.1.9 2 2 2h14c1.1 0 2-.9 2-2V5c0-1.1-.9-2-2-2zM9 17H7v-7h2v7zm4 0h-2V7h2v10zm4 0h-2v-4h2v4z\"/>\n",
              "    </g>\n",
              "</svg>\n",
              "  </button>\n",
              "\n",
              "<style>\n",
              "  .colab-df-quickchart {\n",
              "      --bg-color: #E8F0FE;\n",
              "      --fill-color: #1967D2;\n",
              "      --hover-bg-color: #E2EBFA;\n",
              "      --hover-fill-color: #174EA6;\n",
              "      --disabled-fill-color: #AAA;\n",
              "      --disabled-bg-color: #DDD;\n",
              "  }\n",
              "\n",
              "  [theme=dark] .colab-df-quickchart {\n",
              "      --bg-color: #3B4455;\n",
              "      --fill-color: #D2E3FC;\n",
              "      --hover-bg-color: #434B5C;\n",
              "      --hover-fill-color: #FFFFFF;\n",
              "      --disabled-bg-color: #3B4455;\n",
              "      --disabled-fill-color: #666;\n",
              "  }\n",
              "\n",
              "  .colab-df-quickchart {\n",
              "    background-color: var(--bg-color);\n",
              "    border: none;\n",
              "    border-radius: 50%;\n",
              "    cursor: pointer;\n",
              "    display: none;\n",
              "    fill: var(--fill-color);\n",
              "    height: 32px;\n",
              "    padding: 0;\n",
              "    width: 32px;\n",
              "  }\n",
              "\n",
              "  .colab-df-quickchart:hover {\n",
              "    background-color: var(--hover-bg-color);\n",
              "    box-shadow: 0 1px 2px rgba(60, 64, 67, 0.3), 0 1px 3px 1px rgba(60, 64, 67, 0.15);\n",
              "    fill: var(--button-hover-fill-color);\n",
              "  }\n",
              "\n",
              "  .colab-df-quickchart-complete:disabled,\n",
              "  .colab-df-quickchart-complete:disabled:hover {\n",
              "    background-color: var(--disabled-bg-color);\n",
              "    fill: var(--disabled-fill-color);\n",
              "    box-shadow: none;\n",
              "  }\n",
              "\n",
              "  .colab-df-spinner {\n",
              "    border: 2px solid var(--fill-color);\n",
              "    border-color: transparent;\n",
              "    border-bottom-color: var(--fill-color);\n",
              "    animation:\n",
              "      spin 1s steps(1) infinite;\n",
              "  }\n",
              "\n",
              "  @keyframes spin {\n",
              "    0% {\n",
              "      border-color: transparent;\n",
              "      border-bottom-color: var(--fill-color);\n",
              "      border-left-color: var(--fill-color);\n",
              "    }\n",
              "    20% {\n",
              "      border-color: transparent;\n",
              "      border-left-color: var(--fill-color);\n",
              "      border-top-color: var(--fill-color);\n",
              "    }\n",
              "    30% {\n",
              "      border-color: transparent;\n",
              "      border-left-color: var(--fill-color);\n",
              "      border-top-color: var(--fill-color);\n",
              "      border-right-color: var(--fill-color);\n",
              "    }\n",
              "    40% {\n",
              "      border-color: transparent;\n",
              "      border-right-color: var(--fill-color);\n",
              "      border-top-color: var(--fill-color);\n",
              "    }\n",
              "    60% {\n",
              "      border-color: transparent;\n",
              "      border-right-color: var(--fill-color);\n",
              "    }\n",
              "    80% {\n",
              "      border-color: transparent;\n",
              "      border-right-color: var(--fill-color);\n",
              "      border-bottom-color: var(--fill-color);\n",
              "    }\n",
              "    90% {\n",
              "      border-color: transparent;\n",
              "      border-bottom-color: var(--fill-color);\n",
              "    }\n",
              "  }\n",
              "</style>\n",
              "\n",
              "  <script>\n",
              "    async function quickchart(key) {\n",
              "      const quickchartButtonEl =\n",
              "        document.querySelector('#' + key + ' button');\n",
              "      quickchartButtonEl.disabled = true;  // To prevent multiple clicks.\n",
              "      quickchartButtonEl.classList.add('colab-df-spinner');\n",
              "      try {\n",
              "        const charts = await google.colab.kernel.invokeFunction(\n",
              "            'suggestCharts', [key], {});\n",
              "      } catch (error) {\n",
              "        console.error('Error during call to suggestCharts:', error);\n",
              "      }\n",
              "      quickchartButtonEl.classList.remove('colab-df-spinner');\n",
              "      quickchartButtonEl.classList.add('colab-df-quickchart-complete');\n",
              "    }\n",
              "    (() => {\n",
              "      let quickchartButtonEl =\n",
              "        document.querySelector('#df-bd6b1b3b-e42f-46f8-83c2-8a15ab58f9bd button');\n",
              "      quickchartButtonEl.style.display =\n",
              "        google.colab.kernel.accessAllowed ? 'block' : 'none';\n",
              "    })();\n",
              "  </script>\n",
              "</div>\n",
              "    </div>\n",
              "  </div>\n"
            ]
          },
          "metadata": {},
          "execution_count": 218
        }
      ]
    },
    {
      "cell_type": "markdown",
      "source": [
        "Kode di atas digunakan untuk menghubungkan Google Colab dengan Google Drive sehingga dapat mengakses dataset yang disimpan di Google Drive dan menampilkan beberapa baris pertama dari dataset untuk memberikan gambaran awal tentang struktur dan isinya."
      ],
      "metadata": {
        "id": "xYwtIxyvuwRk"
      }
    },
    {
      "cell_type": "code",
      "source": [
        "# Menampilkan informasi tentang dataset menggunakan metode info()\n",
        "df.info()"
      ],
      "metadata": {
        "colab": {
          "base_uri": "https://localhost:8080/"
        },
        "id": "MB0lRb0u-53K",
        "outputId": "c528ad93-195c-415d-af91-d5bf1a46a2cb"
      },
      "execution_count": 219,
      "outputs": [
        {
          "output_type": "stream",
          "name": "stdout",
          "text": [
            "<class 'pandas.core.frame.DataFrame'>\n",
            "RangeIndex: 104 entries, 0 to 103\n",
            "Data columns (total 14 columns):\n",
            " #   Column    Non-Null Count  Dtype  \n",
            "---  ------    --------------  -----  \n",
            " 0   case      104 non-null    int64  \n",
            " 1   site      104 non-null    int64  \n",
            " 2   Pop       104 non-null    object \n",
            " 3   sex       104 non-null    object \n",
            " 4   age       102 non-null    float64\n",
            " 5   hdlngth   104 non-null    float64\n",
            " 6   skullw    104 non-null    float64\n",
            " 7   totlngth  104 non-null    float64\n",
            " 8   taill     104 non-null    float64\n",
            " 9   footlgth  103 non-null    float64\n",
            " 10  earconch  104 non-null    float64\n",
            " 11  eye       104 non-null    float64\n",
            " 12  chest     104 non-null    float64\n",
            " 13  belly     104 non-null    float64\n",
            "dtypes: float64(10), int64(2), object(2)\n",
            "memory usage: 11.5+ KB\n"
          ]
        }
      ]
    },
    {
      "cell_type": "markdown",
      "source": [
        "Kode di atas akan memberikan informasi tentang dataset, termasuk tipe data setiap kolom, jumlah nilai non-null, dan penggunaan memori."
      ],
      "metadata": {
        "id": "0hDJmuOISgU7"
      }
    },
    {
      "cell_type": "markdown",
      "source": [
        " Kode selanjutnya digunakan untuk memperjelas kolom mana saja yang berisi nilai null\n",
        "\n",
        " prompt: Tunjukkan kode yang diperlukan untuk mengecek jumlah nilai null (missing values) dalam setiap kolom dari suatu dataset menggunakan pandas."
      ],
      "metadata": {
        "id": "SEmtb9ZuTIG8"
      }
    },
    {
      "cell_type": "code",
      "source": [
        "# Menampilkan jumlah nilai null dalam setiap kolom dataset\n",
        "df.isnull().sum()"
      ],
      "metadata": {
        "colab": {
          "base_uri": "https://localhost:8080/"
        },
        "id": "gQtYmIuGTGtY",
        "outputId": "ff521fcc-a41c-4356-9173-0ca749173ebc"
      },
      "execution_count": 220,
      "outputs": [
        {
          "output_type": "execute_result",
          "data": {
            "text/plain": [
              "case        0\n",
              "site        0\n",
              "Pop         0\n",
              "sex         0\n",
              "age         2\n",
              "hdlngth     0\n",
              "skullw      0\n",
              "totlngth    0\n",
              "taill       0\n",
              "footlgth    1\n",
              "earconch    0\n",
              "eye         0\n",
              "chest       0\n",
              "belly       0\n",
              "dtype: int64"
            ]
          },
          "metadata": {},
          "execution_count": 220
        }
      ]
    },
    {
      "cell_type": "markdown",
      "source": [
        "Karena dataset yang lengkap dapat meningkatkan kualitas model machine learning dan analisis statistik, maka selanjutnya isi nilai null (missing values) dalam kolom 'age' dan 'footlgth' dengan nilai rata-rata pada setiap kolom.\n",
        "\n",
        "prompt: Bagaimana cara mengisi nilai null (missing values) dalam kolom 'age' dan 'footlgth' dengan nilai rata-rata dan kemudian mengecek jumlah nilai null setelah pengisian menggunakan pandas?"
      ],
      "metadata": {
        "id": "BGuEIGmuUdqx"
      }
    },
    {
      "cell_type": "code",
      "source": [
        "# Mengisi nilai null dalam kolom 'age' dan 'footlgth' dengan nilai rata-rata\n",
        "df['age'] = df['age'].fillna(df['age'].mean())\n",
        "df['footlgth'] = df['footlgth'].fillna(df['footlgth'].mean())\n",
        "\n",
        "# Menampilkan jumlah nilai null setelah pengisian\n",
        "print(\"Jumlah nilai null setelah pengisian:\")\n",
        "print(df[['age', 'footlgth']].isnull().sum())"
      ],
      "metadata": {
        "colab": {
          "base_uri": "https://localhost:8080/"
        },
        "id": "JdXLP2aGTqTK",
        "outputId": "becde3c1-58a2-4658-8fae-1aa040e833ce"
      },
      "execution_count": 221,
      "outputs": [
        {
          "output_type": "stream",
          "name": "stdout",
          "text": [
            "Jumlah nilai null setelah pengisian:\n",
            "age         0\n",
            "footlgth    0\n",
            "dtype: int64\n"
          ]
        }
      ]
    },
    {
      "cell_type": "markdown",
      "source": [
        "Penggunaan nilai rata-rata sering dipilih karena sederhana dan cepat\n",
        "serta, dengan menyamakan nilai null dengan mean dapat mempertahankan distribusi umum dari kolom tersebut."
      ],
      "metadata": {
        "id": "mO-eDB2ZVr1y"
      }
    },
    {
      "cell_type": "markdown",
      "source": [
        "Setelah melakukan pengisian kolom yang memiliki nilai null dengan nilai rata-rata pada setiap kolom, lakukan kembali pengecekan pada dataset untuk memastikan sudah tidak ada kolom yang memiliki missing value"
      ],
      "metadata": {
        "id": "z7XZOVLtWcwS"
      }
    },
    {
      "cell_type": "code",
      "source": [
        "# Mengecek kembali jumlah nilai null dalam setiap kolom dataset\n",
        "df.isnull().sum()"
      ],
      "metadata": {
        "colab": {
          "base_uri": "https://localhost:8080/"
        },
        "id": "bCSIR8VTWAN-",
        "outputId": "fae96db3-baa0-4f08-cdf3-e006d6a6d217"
      },
      "execution_count": 222,
      "outputs": [
        {
          "output_type": "execute_result",
          "data": {
            "text/plain": [
              "case        0\n",
              "site        0\n",
              "Pop         0\n",
              "sex         0\n",
              "age         0\n",
              "hdlngth     0\n",
              "skullw      0\n",
              "totlngth    0\n",
              "taill       0\n",
              "footlgth    0\n",
              "earconch    0\n",
              "eye         0\n",
              "chest       0\n",
              "belly       0\n",
              "dtype: int64"
            ]
          },
          "metadata": {},
          "execution_count": 222
        }
      ]
    },
    {
      "cell_type": "markdown",
      "source": [
        "\n",
        "Selanjutnya, membuat heatmap korelasi antar fitur agar dapat dengan cepat mendapatkan wawasan tentang struktur korelasi dalam dataset, sehingga memudahkan pengambilan keputusan dan interpretasi hasil analisis.\n",
        "\n",
        "prompt: tunjukkan cara menggunakan seaborn dan matplotlib untuk membuat heatmap korelasi dari DataFrame."
      ],
      "metadata": {
        "id": "rYjyBpujYrAZ"
      }
    },
    {
      "cell_type": "code",
      "source": [
        "# Menggunakan seaborn dan matplotlib untuk membuat heatmap korelasi\n",
        "plt.figure(figsize=(10, 10))\n",
        "sns.heatmap(df.corr(), annot=True)\n",
        "plt.show()"
      ],
      "metadata": {
        "colab": {
          "base_uri": "https://localhost:8080/",
          "height": 942
        },
        "id": "9BKKFuEyZ_9-",
        "outputId": "7c9e913c-41cb-4376-c8e2-2fbef45da2b0"
      },
      "execution_count": 223,
      "outputs": [
        {
          "output_type": "stream",
          "name": "stderr",
          "text": [
            "<ipython-input-223-453df4c03098>:3: FutureWarning: The default value of numeric_only in DataFrame.corr is deprecated. In a future version, it will default to False. Select only valid columns or specify the value of numeric_only to silence this warning.\n",
            "  sns.heatmap(df.corr(), annot=True)\n"
          ]
        },
        {
          "output_type": "display_data",
          "data": {
            "text/plain": [
              "<Figure size 1000x1000 with 2 Axes>"
            ],
            "image/png": "[encoded data removed]"
          },
          "metadata": {}
        }
      ]
    },
    {
      "cell_type": "markdown",
      "source": [
        "Selanjutnya menghapus kolom-kolom yang tidak diperlukan dalam melatih model, yaitu kolom \"sex\" dan \"Pop (population)\".\n",
        "\n",
        "prompt: Tunjukkan cara menghapus kolom dari suatu DataFrame menggunakan pandas."
      ],
      "metadata": {
        "id": "WYIgrtQ3XvRf"
      }
    },
    {
      "cell_type": "code",
      "source": [
        "# Menghapus kolom 'Pop' dan 'sex' dari DataFrame\n",
        "df.drop(labels=['Pop', 'sex'], axis=1, inplace=True)"
      ],
      "metadata": {
        "id": "Te9JpBSeXukG"
      },
      "execution_count": 224,
      "outputs": []
    },
    {
      "cell_type": "markdown",
      "source": [
        "\n",
        "Setelah memahami hubungan antar fitur-fitur dalam dataset melalui heatmap korelasi, langkah selanjutnya adalah memisahkan fitur dan target dari dataset untuk dapat lebih fokus dalam mengembangkan model yang efektif.\n",
        "\n",
        "prompt: Bagaimana cara menggunakan pandas untuk memisahkan fitur dan target dari suatu dataset?\n"
      ],
      "metadata": {
        "id": "Abk497NybSPD"
      }
    },
    {
      "cell_type": "code",
      "source": [
        "# Menggunakan pandas, kita membuat variabel X yang merupakan dataset tanpa kolom 'totlngth'\n",
        "X = df.drop(labels=['totlngth'], axis=1)\n",
        "\n",
        "# Menggunakan pandas, kita membuat variabel y yang merupakan kolom 'totlngth' dari dataset\n",
        "y = df['totlngth']"
      ],
      "metadata": {
        "id": "3X8QWKiK_IOe"
      },
      "execution_count": 225,
      "outputs": []
    },
    {
      "cell_type": "markdown",
      "source": [
        "Selanjutnya, memahami struktur dan isi data untuk memastikan bahwa dataset telah dimuat dengan benar dan siap untuk langkah-langkah berikutnya dalam analisis atau pengembangan model.\n",
        "\n",
        "prompt: Berikan kode untuk menampilkan dimensi (shape) dari fitur (X) dan target (y) dalam suatu dataset menggunakan pandas, serta menampilkan nilai atau isi dari kedua variabel tersebut."
      ],
      "metadata": {
        "id": "fRRbr0IrdGcJ"
      }
    },
    {
      "cell_type": "code",
      "source": [
        "# Menampilkan dimensi atau bentuk dari variabel X\n",
        "X.shape"
      ],
      "metadata": {
        "colab": {
          "base_uri": "https://localhost:8080/"
        },
        "id": "taIrpaDG_JuU",
        "outputId": "4c7577ea-5426-4861-83ee-8063bafc1258"
      },
      "execution_count": 226,
      "outputs": [
        {
          "output_type": "execute_result",
          "data": {
            "text/plain": [
              "(104, 11)"
            ]
          },
          "metadata": {},
          "execution_count": 226
        }
      ]
    },
    {
      "cell_type": "code",
      "source": [
        "# Menampilkan dimensi atau bentuk dari variabel y\n",
        "y.shape"
      ],
      "metadata": {
        "colab": {
          "base_uri": "https://localhost:8080/"
        },
        "id": "Cr0Myil6_LO0",
        "outputId": "74b15bb7-a8c3-4ba1-b9fe-e4be260fc56a"
      },
      "execution_count": 227,
      "outputs": [
        {
          "output_type": "execute_result",
          "data": {
            "text/plain": [
              "(104,)"
            ]
          },
          "metadata": {},
          "execution_count": 227
        }
      ]
    },
    {
      "cell_type": "code",
      "source": [
        "# Menampilkan nilai atau isi dari variabel X\n",
        "X"
      ],
      "metadata": {
        "colab": {
          "base_uri": "https://localhost:8080/",
          "height": 423
        },
        "id": "sHWBK_J8_M1e",
        "outputId": "1e0a5fb2-9d61-4bdb-8113-7794aca7d92a"
      },
      "execution_count": 228,
      "outputs": [
        {
          "output_type": "execute_result",
          "data": {
            "text/plain": [
              "     case  site  age  hdlngth  skullw  taill  footlgth  earconch   eye  chest  \\\n",
              "0       1     1  8.0     94.1    60.4   36.0      74.5      54.5  15.2   28.0   \n",
              "1       2     1  6.0     92.5    57.6   36.5      72.5      51.2  16.0   28.5   \n",
              "2       3     1  6.0     94.0    60.0   39.0      75.4      51.9  15.5   30.0   \n",
              "3       4     1  6.0     93.2    57.1   38.0      76.1      52.2  15.2   28.0   \n",
              "4       5     1  2.0     91.5    56.3   36.0      71.0      53.2  15.1   28.5   \n",
              "..    ...   ...  ...      ...     ...    ...       ...       ...   ...    ...   \n",
              "99    100     7  1.0     89.5    56.0   36.5      66.0      46.8  14.8   23.0   \n",
              "100   101     7  1.0     88.6    54.7   39.0      64.4      48.0  14.0   25.0   \n",
              "101   102     7  6.0     92.4    55.0   38.0      63.5      45.4  13.0   25.0   \n",
              "102   103     7  4.0     91.5    55.2   36.5      62.9      45.9  15.4   25.0   \n",
              "103   104     7  3.0     93.6    59.9   40.0      67.6      46.0  14.8   28.5   \n",
              "\n",
              "     belly  \n",
              "0     36.0  \n",
              "1     33.0  \n",
              "2     34.0  \n",
              "3     34.0  \n",
              "4     33.0  \n",
              "..     ...  \n",
              "99    27.0  \n",
              "100   33.0  \n",
              "101   30.0  \n",
              "102   29.0  \n",
              "103   33.5  \n",
              "\n",
              "[104 rows x 11 columns]"
            ],
            "text/html": [
              "\n",
              "  <div id=\"df-16f79fbd-dcec-49e5-b594-49cfcc1479e6\" class=\"colab-df-container\">\n",
              "    <div>\n",
              "<style scoped>\n",
              "    .dataframe tbody tr th:only-of-type {\n",
              "        vertical-align: middle;\n",
              "    }\n",
              "\n",
              "    .dataframe tbody tr th {\n",
              "        vertical-align: top;\n",
              "    }\n",
              "\n",
              "    .dataframe thead th {\n",
              "        text-align: right;\n",
              "    }\n",
              "</style>\n",
              "<table border=\"1\" class=\"dataframe\">\n",
              "  <thead>\n",
              "    <tr style=\"text-align: right;\">\n",
              "      <th></th>\n",
              "      <th>case</th>\n",
              "      <th>site</th>\n",
              "      <th>age</th>\n",
              "      <th>hdlngth</th>\n",
              "      <th>skullw</th>\n",
              "      <th>taill</th>\n",
              "      <th>footlgth</th>\n",
              "      <th>earconch</th>\n",
              "      <th>eye</th>\n",
              "      <th>chest</th>\n",
              "      <th>belly</th>\n",
              "    </tr>\n",
              "  </thead>\n",
              "  <tbody>\n",
              "    <tr>\n",
              "      <th>0</th>\n",
              "      <td>1</td>\n",
              "      <td>1</td>\n",
              "      <td>8.0</td>\n",
              "      <td>94.1</td>\n",
              "      <td>60.4</td>\n",
              "      <td>36.0</td>\n",
              "      <td>74.5</td>\n",
              "      <td>54.5</td>\n",
              "      <td>15.2</td>\n",
              "      <td>28.0</td>\n",
              "      <td>36.0</td>\n",
              "    </tr>\n",
              "    <tr>\n",
              "      <th>1</th>\n",
              "      <td>2</td>\n",
              "      <td>1</td>\n",
              "      <td>6.0</td>\n",
              "      <td>92.5</td>\n",
              "      <td>57.6</td>\n",
              "      <td>36.5</td>\n",
              "      <td>72.5</td>\n",
              "      <td>51.2</td>\n",
              "      <td>16.0</td>\n",
              "      <td>28.5</td>\n",
              "      <td>33.0</td>\n",
              "    </tr>\n",
              "    <tr>\n",
              "      <th>2</th>\n",
              "      <td>3</td>\n",
              "      <td>1</td>\n",
              "      <td>6.0</td>\n",
              "      <td>94.0</td>\n",
              "      <td>60.0</td>\n",
              "      <td>39.0</td>\n",
              "      <td>75.4</td>\n",
              "      <td>51.9</td>\n",
              "      <td>15.5</td>\n",
              "      <td>30.0</td>\n",
              "      <td>34.0</td>\n",
              "    </tr>\n",
              "    <tr>\n",
              "      <th>3</th>\n",
              "      <td>4</td>\n",
              "      <td>1</td>\n",
              "      <td>6.0</td>\n",
              "      <td>93.2</td>\n",
              "      <td>57.1</td>\n",
              "      <td>38.0</td>\n",
              "      <td>76.1</td>\n",
              "      <td>52.2</td>\n",
              "      <td>15.2</td>\n",
              "      <td>28.0</td>\n",
              "      <td>34.0</td>\n",
              "    </tr>\n",
              "    <tr>\n",
              "      <th>4</th>\n",
              "      <td>5</td>\n",
              "      <td>1</td>\n",
              "      <td>2.0</td>\n",
              "      <td>91.5</td>\n",
              "      <td>56.3</td>\n",
              "      <td>36.0</td>\n",
              "      <td>71.0</td>\n",
              "      <td>53.2</td>\n",
              "      <td>15.1</td>\n",
              "      <td>28.5</td>\n",
              "      <td>33.0</td>\n",
              "    </tr>\n",
              "    <tr>\n",
              "      <th>...</th>\n",
              "      <td>...</td>\n",
              "      <td>...</td>\n",
              "      <td>...</td>\n",
              "      <td>...</td>\n",
              "      <td>...</td>\n",
              "      <td>...</td>\n",
              "      <td>...</td>\n",
              "      <td>...</td>\n",
              "      <td>...</td>\n",
              "      <td>...</td>\n",
              "      <td>...</td>\n",
              "    </tr>\n",
              "    <tr>\n",
              "      <th>99</th>\n",
              "      <td>100</td>\n",
              "      <td>7</td>\n",
              "      <td>1.0</td>\n",
              "      <td>89.5</td>\n",
              "      <td>56.0</td>\n",
              "      <td>36.5</td>\n",
              "      <td>66.0</td>\n",
              "      <td>46.8</td>\n",
              "      <td>14.8</td>\n",
              "      <td>23.0</td>\n",
              "      <td>27.0</td>\n",
              "    </tr>\n",
              "    <tr>\n",
              "      <th>100</th>\n",
              "      <td>101</td>\n",
              "      <td>7</td>\n",
              "      <td>1.0</td>\n",
              "      <td>88.6</td>\n",
              "      <td>54.7</td>\n",
              "      <td>39.0</td>\n",
              "      <td>64.4</td>\n",
              "      <td>48.0</td>\n",
              "      <td>14.0</td>\n",
              "      <td>25.0</td>\n",
              "      <td>33.0</td>\n",
              "    </tr>\n",
              "    <tr>\n",
              "      <th>101</th>\n",
              "      <td>102</td>\n",
              "      <td>7</td>\n",
              "      <td>6.0</td>\n",
              "      <td>92.4</td>\n",
              "      <td>55.0</td>\n",
              "      <td>38.0</td>\n",
              "      <td>63.5</td>\n",
              "      <td>45.4</td>\n",
              "      <td>13.0</td>\n",
              "      <td>25.0</td>\n",
              "      <td>30.0</td>\n",
              "    </tr>\n",
              "    <tr>\n",
              "      <th>102</th>\n",
              "      <td>103</td>\n",
              "      <td>7</td>\n",
              "      <td>4.0</td>\n",
              "      <td>91.5</td>\n",
              "      <td>55.2</td>\n",
              "      <td>36.5</td>\n",
              "      <td>62.9</td>\n",
              "      <td>45.9</td>\n",
              "      <td>15.4</td>\n",
              "      <td>25.0</td>\n",
              "      <td>29.0</td>\n",
              "    </tr>\n",
              "    <tr>\n",
              "      <th>103</th>\n",
              "      <td>104</td>\n",
              "      <td>7</td>\n",
              "      <td>3.0</td>\n",
              "      <td>93.6</td>\n",
              "      <td>59.9</td>\n",
              "      <td>40.0</td>\n",
              "      <td>67.6</td>\n",
              "      <td>46.0</td>\n",
              "      <td>14.8</td>\n",
              "      <td>28.5</td>\n",
              "      <td>33.5</td>\n",
              "    </tr>\n",
              "  </tbody>\n",
              "</table>\n",
              "<p>104 rows × 11 columns</p>\n",
              "</div>\n",
              "    <div class=\"colab-df-buttons\">\n",
              "\n",
              "  <div class=\"colab-df-container\">\n",
              "    <button class=\"colab-df-convert\" onclick=\"convertToInteractive('df-16f79fbd-dcec-49e5-b594-49cfcc1479e6')\"\n",
              "            title=\"Convert this dataframe to an interactive table.\"\n",
              "            style=\"display:none;\">\n",
              "\n",
              "  <svg xmlns=\"http://www.w3.org/2000/svg\" height=\"24px\" viewBox=\"0 -960 960 960\">\n",
              "    <path d=\"M120-120v-720h720v720H120Zm60-500h600v-160H180v160Zm220 220h160v-160H400v160Zm0 220h160v-160H400v160ZM180-400h160v-160H180v160Zm440 0h160v-160H620v160ZM180-180h160v-160H180v160Zm440 0h160v-160H620v160Z\"/>\n",
              "  </svg>\n",
              "    </button>\n",
              "\n",
              "  <style>\n",
              "    .colab-df-container {\n",
              "      display:flex;\n",
              "      gap: 12px;\n",
              "    }\n",
              "\n",
              "    .colab-df-convert {\n",
              "      background-color: #E8F0FE;\n",
              "      border: none;\n",
              "      border-radius: 50%;\n",
              "      cursor: pointer;\n",
              "      display: none;\n",
              "      fill: #1967D2;\n",
              "      height: 32px;\n",
              "      padding: 0 0 0 0;\n",
              "      width: 32px;\n",
              "    }\n",
              "\n",
              "    .colab-df-convert:hover {\n",
              "      background-color: #E2EBFA;\n",
              "      box-shadow: 0px 1px 2px rgba(60, 64, 67, 0.3), 0px 1px 3px 1px rgba(60, 64, 67, 0.15);\n",
              "      fill: #174EA6;\n",
              "    }\n",
              "\n",
              "    .colab-df-buttons div {\n",
              "      margin-bottom: 4px;\n",
              "    }\n",
              "\n",
              "    [theme=dark] .colab-df-convert {\n",
              "      background-color: #3B4455;\n",
              "      fill: #D2E3FC;\n",
              "    }\n",
              "\n",
              "    [theme=dark] .colab-df-convert:hover {\n",
              "      background-color: #434B5C;\n",
              "      box-shadow: 0px 1px 3px 1px rgba(0, 0, 0, 0.15);\n",
              "      filter: drop-shadow(0px 1px 2px rgba(0, 0, 0, 0.3));\n",
              "      fill: #FFFFFF;\n",
              "    }\n",
              "  </style>\n",
              "\n",
              "    <script>\n",
              "      const buttonEl =\n",
              "        document.querySelector('#df-16f79fbd-dcec-49e5-b594-49cfcc1479e6 button.colab-df-convert');\n",
              "      buttonEl.style.display =\n",
              "        google.colab.kernel.accessAllowed ? 'block' : 'none';\n",
              "\n",
              "      async function convertToInteractive(key) {\n",
              "        const element = document.querySelector('#df-16f79fbd-dcec-49e5-b594-49cfcc1479e6');\n",
              "        const dataTable =\n",
              "          await google.colab.kernel.invokeFunction('convertToInteractive',\n",
              "                                                    [key], {});\n",
              "        if (!dataTable) return;\n",
              "\n",
              "        const docLinkHtml = 'Like what you see? Visit the ' +\n",
              "          '<a target=\"_blank\" href=https://colab.research.google.com/notebooks/data_table.ipynb>data table notebook</a>'\n",
              "          + ' to learn more about interactive tables.';\n",
              "        element.innerHTML = '';\n",
              "        dataTable['output_type'] = 'display_data';\n",
              "        await google.colab.output.renderOutput(dataTable, element);\n",
              "        const docLink = document.createElement('div');\n",
              "        docLink.innerHTML = docLinkHtml;\n",
              "        element.appendChild(docLink);\n",
              "      }\n",
              "    </script>\n",
              "  </div>\n",
              "\n",
              "\n",
              "<div id=\"df-4afaeaa0-056f-4077-be5d-933861dc8026\">\n",
              "  <button class=\"colab-df-quickchart\" onclick=\"quickchart('df-4afaeaa0-056f-4077-be5d-933861dc8026')\"\n",
              "            title=\"Suggest charts\"\n",
              "            style=\"display:none;\">\n",
              "\n",
              "<svg xmlns=\"http://www.w3.org/2000/svg\" height=\"24px\"viewBox=\"0 0 24 24\"\n",
              "     width=\"24px\">\n",
              "    <g>\n",
              "        <path d=\"M19 3H5c-1.1 0-2 .9-2 2v14c0 1.1.9 2 2 2h14c1.1 0 2-.9 2-2V5c0-1.1-.9-2-2-2zM9 17H7v-7h2v7zm4 0h-2V7h2v10zm4 0h-2v-4h2v4z\"/>\n",
              "    </g>\n",
              "</svg>\n",
              "  </button>\n",
              "\n",
              "<style>\n",
              "  .colab-df-quickchart {\n",
              "      --bg-color: #E8F0FE;\n",
              "      --fill-color: #1967D2;\n",
              "      --hover-bg-color: #E2EBFA;\n",
              "      --hover-fill-color: #174EA6;\n",
              "      --disabled-fill-color: #AAA;\n",
              "      --disabled-bg-color: #DDD;\n",
              "  }\n",
              "\n",
              "  [theme=dark] .colab-df-quickchart {\n",
              "      --bg-color: #3B4455;\n",
              "      --fill-color: #D2E3FC;\n",
              "      --hover-bg-color: #434B5C;\n",
              "      --hover-fill-color: #FFFFFF;\n",
              "      --disabled-bg-color: #3B4455;\n",
              "      --disabled-fill-color: #666;\n",
              "  }\n",
              "\n",
              "  .colab-df-quickchart {\n",
              "    background-color: var(--bg-color);\n",
              "    border: none;\n",
              "    border-radius: 50%;\n",
              "    cursor: pointer;\n",
              "    display: none;\n",
              "    fill: var(--fill-color);\n",
              "    height: 32px;\n",
              "    padding: 0;\n",
              "    width: 32px;\n",
              "  }\n",
              "\n",
              "  .colab-df-quickchart:hover {\n",
              "    background-color: var(--hover-bg-color);\n",
              "    box-shadow: 0 1px 2px rgba(60, 64, 67, 0.3), 0 1px 3px 1px rgba(60, 64, 67, 0.15);\n",
              "    fill: var(--button-hover-fill-color);\n",
              "  }\n",
              "\n",
              "  .colab-df-quickchart-complete:disabled,\n",
              "  .colab-df-quickchart-complete:disabled:hover {\n",
              "    background-color: var(--disabled-bg-color);\n",
              "    fill: var(--disabled-fill-color);\n",
              "    box-shadow: none;\n",
              "  }\n",
              "\n",
              "  .colab-df-spinner {\n",
              "    border: 2px solid var(--fill-color);\n",
              "    border-color: transparent;\n",
              "    border-bottom-color: var(--fill-color);\n",
              "    animation:\n",
              "      spin 1s steps(1) infinite;\n",
              "  }\n",
              "\n",
              "  @keyframes spin {\n",
              "    0% {\n",
              "      border-color: transparent;\n",
              "      border-bottom-color: var(--fill-color);\n",
              "      border-left-color: var(--fill-color);\n",
              "    }\n",
              "    20% {\n",
              "      border-color: transparent;\n",
              "      border-left-color: var(--fill-color);\n",
              "      border-top-color: var(--fill-color);\n",
              "    }\n",
              "    30% {\n",
              "      border-color: transparent;\n",
              "      border-left-color: var(--fill-color);\n",
              "      border-top-color: var(--fill-color);\n",
              "      border-right-color: var(--fill-color);\n",
              "    }\n",
              "    40% {\n",
              "      border-color: transparent;\n",
              "      border-right-color: var(--fill-color);\n",
              "      border-top-color: var(--fill-color);\n",
              "    }\n",
              "    60% {\n",
              "      border-color: transparent;\n",
              "      border-right-color: var(--fill-color);\n",
              "    }\n",
              "    80% {\n",
              "      border-color: transparent;\n",
              "      border-right-color: var(--fill-color);\n",
              "      border-bottom-color: var(--fill-color);\n",
              "    }\n",
              "    90% {\n",
              "      border-color: transparent;\n",
              "      border-bottom-color: var(--fill-color);\n",
              "    }\n",
              "  }\n",
              "</style>\n",
              "\n",
              "  <script>\n",
              "    async function quickchart(key) {\n",
              "      const quickchartButtonEl =\n",
              "        document.querySelector('#' + key + ' button');\n",
              "      quickchartButtonEl.disabled = true;  // To prevent multiple clicks.\n",
              "      quickchartButtonEl.classList.add('colab-df-spinner');\n",
              "      try {\n",
              "        const charts = await google.colab.kernel.invokeFunction(\n",
              "            'suggestCharts', [key], {});\n",
              "      } catch (error) {\n",
              "        console.error('Error during call to suggestCharts:', error);\n",
              "      }\n",
              "      quickchartButtonEl.classList.remove('colab-df-spinner');\n",
              "      quickchartButtonEl.classList.add('colab-df-quickchart-complete');\n",
              "    }\n",
              "    (() => {\n",
              "      let quickchartButtonEl =\n",
              "        document.querySelector('#df-4afaeaa0-056f-4077-be5d-933861dc8026 button');\n",
              "      quickchartButtonEl.style.display =\n",
              "        google.colab.kernel.accessAllowed ? 'block' : 'none';\n",
              "    })();\n",
              "  </script>\n",
              "</div>\n",
              "    </div>\n",
              "  </div>\n"
            ]
          },
          "metadata": {},
          "execution_count": 228
        }
      ]
    },
    {
      "cell_type": "code",
      "source": [
        "# Menampilkan nilai atau isi dari variabel y\n",
        "y"
      ],
      "metadata": {
        "colab": {
          "base_uri": "https://localhost:8080/"
        },
        "id": "bjBQM8EA_O3a",
        "outputId": "7a81774f-9679-4330-d094-f723ef754246"
      },
      "execution_count": 229,
      "outputs": [
        {
          "output_type": "execute_result",
          "data": {
            "text/plain": [
              "0      89.0\n",
              "1      91.5\n",
              "2      95.5\n",
              "3      92.0\n",
              "4      85.5\n",
              "       ... \n",
              "99     81.5\n",
              "100    82.5\n",
              "101    89.0\n",
              "102    82.5\n",
              "103    89.0\n",
              "Name: totlngth, Length: 104, dtype: float64"
            ]
          },
          "metadata": {},
          "execution_count": 229
        }
      ]
    },
    {
      "cell_type": "markdown",
      "source": [
        "Selanjutnya memisahkan dataset antara data yang akan digunakan untuk melatih dan menguji model. Subset pelatihan digunakan untuk melatih model, sedangkan subset pengujian digunakan untuk menguji dan mengukur performa model. Dengan menggunakan subset pelatihan dan pengujian, pada saat mengembangkan model, dapat mengoptimalkan dan mengevaluasi model dengan lebih baik\n",
        "\n",
        "prompt: Berikan kode untuk membagi dataset menjadi subset pelatihan dan pengujian"
      ],
      "metadata": {
        "id": "vXeCRqpxemD6"
      }
    },
    {
      "cell_type": "code",
      "source": [
        "# Memisahkan dataset menjadi subset pelatihan (X_train, y_train) dan subset pengujian (X_test, y_test)\n",
        "X_train, X_test, y_train, y_test = train_test_split(X, y, test_size=0.2, random_state=0)"
      ],
      "metadata": {
        "id": "e5zeDoi6_QQj"
      },
      "execution_count": 230,
      "outputs": []
    },
    {
      "cell_type": "markdown",
      "source": [
        "Selanjutnya melakukan pensklaan fitur karena metode yang digunakan adalah metode regresi linear. Penskalaan fitur adalah langkah yang umumnya diperlukan dalam analisis data dan pengembangan model machine learning. Algoritma machine learning seperti regresi linear, support vector machines, dan k-means clustering dapat mendapatkan manfaat dari penskalaan fitur.\n",
        "\n",
        "StandardScaler khususnya melakukan penskalaan fitur sehingga distribusi setiap fitur memiliki rata-rata 0 dan deviasi standar 1. Hal ini dapat membantu algoritma yang sensitif terhadap skala untuk berkinerja lebih baik.\n",
        "\n",
        "prompt: Berikan kode untuk melakukan penskalaan fitur pada subset pelatihan dan pengujian"
      ],
      "metadata": {
        "id": "7hUzsoSWgbP1"
      }
    },
    {
      "cell_type": "code",
      "source": [
        "# Membuat objek StandardScaler\n",
        "scalar = StandardScaler()\n",
        "\n",
        "# Melakukan penskalaan fitur pada subset pelatihan (X_train)\n",
        "X_train_scalar = scalar.fit_transform(X_train)\n",
        "\n",
        "# Melakukan penskalaan fitur pada subset pengujian (X_test)\n",
        "X_test_scalar = scalar.transform(X_test)"
      ],
      "metadata": {
        "id": "SKXMzktv_UYR"
      },
      "execution_count": 231,
      "outputs": []
    },
    {
      "cell_type": "markdown",
      "source": [
        "Setelah melakukan penskalaan pada fitur, selanjutnya memilih dan melatih model. Pemilihan dan pelatihan model adalah langkah penting dalam pengembangan model machine learning. Dalam konteks regresi linear, model ini digunakan untuk memodelkan hubungan linear antara fitur-fitur dan variabel target. Penskalaan fitur yang telah dilakukan sebelumnya, dapat melatih model regresi linear untuk meningkatkan performa dan konvergensi model.\n",
        "\n",
        "prompt: Berikan kode untuk membuat dan melatih model regresi linear"
      ],
      "metadata": {
        "id": "GwW3TsGmhsVY"
      }
    },
    {
      "cell_type": "code",
      "source": [
        "# Membuat objek LinearRegression\n",
        "linear = LinearRegression()\n",
        "\n",
        "# Melatih model regresi linear menggunakan subset pelatihan yang telah di-scala (X_train_scalar dan y_train)\n",
        "linear.fit(X_train_scalar, y_train)"
      ],
      "metadata": {
        "colab": {
          "base_uri": "https://localhost:8080/",
          "height": 74
        },
        "id": "YaXWt1fz_V-K",
        "outputId": "6f93b9fa-c097-4eee-ac77-3e92b5e62c0d"
      },
      "execution_count": 232,
      "outputs": [
        {
          "output_type": "execute_result",
          "data": {
            "text/plain": [
              "LinearRegression()"
            ],
            "text/html": [
              "<style>#sk-container-id-9 {color: black;background-color: white;}#sk-container-id-9 pre{padding: 0;}#sk-container-id-9 div.sk-toggleable {background-color: white;}#sk-container-id-9 label.sk-toggleable__label {cursor: pointer;display: block;width: 100%;margin-bottom: 0;padding: 0.3em;box-sizing: border-box;text-align: center;}#sk-container-id-9 label.sk-toggleable__label-arrow:before {content: \"▸\";float: left;margin-right: 0.25em;color: #696969;}#sk-container-id-9 label.sk-toggleable__label-arrow:hover:before {color: black;}#sk-container-id-9 div.sk-estimator:hover label.sk-toggleable__label-arrow:before {color: black;}#sk-container-id-9 div.sk-toggleable__content {max-height: 0;max-width: 0;overflow: hidden;text-align: left;background-color: #f0f8ff;}#sk-container-id-9 div.sk-toggleable__content pre {margin: 0.2em;color: black;border-radius: 0.25em;background-color: #f0f8ff;}#sk-container-id-9 input.sk-toggleable__control:checked~div.sk-toggleable__content {max-height: 200px;max-width: 100%;overflow: auto;}#sk-container-id-9 input.sk-toggleable__control:checked~label.sk-toggleable__label-arrow:before {content: \"▾\";}#sk-container-id-9 div.sk-estimator input.sk-toggleable__control:checked~label.sk-toggleable__label {background-color: #d4ebff;}#sk-container-id-9 div.sk-label input.sk-toggleable__control:checked~label.sk-toggleable__label {background-color: #d4ebff;}#sk-container-id-9 input.sk-hidden--visually {border: 0;clip: rect(1px 1px 1px 1px);clip: rect(1px, 1px, 1px, 1px);height: 1px;margin: -1px;overflow: hidden;padding: 0;position: absolute;width: 1px;}#sk-container-id-9 div.sk-estimator {font-family: monospace;background-color: #f0f8ff;border: 1px dotted black;border-radius: 0.25em;box-sizing: border-box;margin-bottom: 0.5em;}#sk-container-id-9 div.sk-estimator:hover {background-color: #d4ebff;}#sk-container-id-9 div.sk-parallel-item::after {content: \"\";width: 100%;border-bottom: 1px solid gray;flex-grow: 1;}#sk-container-id-9 div.sk-label:hover label.sk-toggleable__label {background-color: #d4ebff;}#sk-container-id-9 div.sk-serial::before {content: \"\";position: absolute;border-left: 1px solid gray;box-sizing: border-box;top: 0;bottom: 0;left: 50%;z-index: 0;}#sk-container-id-9 div.sk-serial {display: flex;flex-direction: column;align-items: center;background-color: white;padding-right: 0.2em;padding-left: 0.2em;position: relative;}#sk-container-id-9 div.sk-item {position: relative;z-index: 1;}#sk-container-id-9 div.sk-parallel {display: flex;align-items: stretch;justify-content: center;background-color: white;position: relative;}#sk-container-id-9 div.sk-item::before, #sk-container-id-9 div.sk-parallel-item::before {content: \"\";position: absolute;border-left: 1px solid gray;box-sizing: border-box;top: 0;bottom: 0;left: 50%;z-index: -1;}#sk-container-id-9 div.sk-parallel-item {display: flex;flex-direction: column;z-index: 1;position: relative;background-color: white;}#sk-container-id-9 div.sk-parallel-item:first-child::after {align-self: flex-end;width: 50%;}#sk-container-id-9 div.sk-parallel-item:last-child::after {align-self: flex-start;width: 50%;}#sk-container-id-9 div.sk-parallel-item:only-child::after {width: 0;}#sk-container-id-9 div.sk-dashed-wrapped {border: 1px dashed gray;margin: 0 0.4em 0.5em 0.4em;box-sizing: border-box;padding-bottom: 0.4em;background-color: white;}#sk-container-id-9 div.sk-label label {font-family: monospace;font-weight: bold;display: inline-block;line-height: 1.2em;}#sk-container-id-9 div.sk-label-container {text-align: center;}#sk-container-id-9 div.sk-container {/* jupyter's `normalize.less` sets `[hidden] { display: none; }` but bootstrap.min.css set `[hidden] { display: none !important; }` so we also need the `!important` here to be able to override the default hidden behavior on the sphinx rendered scikit-learn.org. See: https://github.com/scikit-learn/scikit-learn/issues/21755 */display: inline-block !important;position: relative;}#sk-container-id-9 div.sk-text-repr-fallback {display: none;}</style><div id=\"sk-container-id-9\" class=\"sk-top-container\"><div class=\"sk-text-repr-fallback\"><pre>LinearRegression()</pre><b>In a Jupyter environment, please rerun this cell to show the HTML representation or trust the notebook. <br />On GitHub, the HTML representation is unable to render, please try loading this page with nbviewer.org.</b></div><div class=\"sk-container\" hidden><div class=\"sk-item\"><div class=\"sk-estimator sk-toggleable\"><input class=\"sk-toggleable__control sk-hidden--visually\" id=\"sk-estimator-id-9\" type=\"checkbox\" checked><label for=\"sk-estimator-id-9\" class=\"sk-toggleable__label sk-toggleable__label-arrow\">LinearRegression</label><div class=\"sk-toggleable__content\"><pre>LinearRegression()</pre></div></div></div></div></div>"
            ]
          },
          "metadata": {},
          "execution_count": 232
        }
      ]
    },
    {
      "cell_type": "markdown",
      "source": [
        "Setelah melatih model regresi linear, selanjutnya uji kinerja model pada subset pengujian yang belum pernah dilihat sebelumnya. Proses ini memberikan gambaran tentang sejauh mana model mampu melakukan prediksi pada data baru.\n",
        "\n",
        "Penggunaan penskalaan fitur pada subset pengujian (X_test_scalar) memastikan konsistensi skala antara data pelatihan dan pengujian, sehingga model dapat memberikan prediksi yang lebih akurat.\n",
        "\n",
        "prompt: Berikan kode untuk melakukan prediksi menggunakan model regresi linear"
      ],
      "metadata": {
        "id": "hsCJyyOYjjnE"
      }
    },
    {
      "cell_type": "code",
      "source": [
        "# Melakukan prediksi menggunakan model regresi linear pada subset pengujian yang telah di-scala (X_test_scalar)\n",
        "y_pred_scalar = linear.predict(X_test_scalar)"
      ],
      "metadata": {
        "id": "1gVYb-Ry_Xoa"
      },
      "execution_count": 233,
      "outputs": []
    },
    {
      "cell_type": "markdown",
      "source": [
        "Evaluasi model setelah melakukan prediksi adalah langkah kritis untuk memahami seberapa baik model dapat menggeneralisasi pada data baru. Metrik-metrik seperti skor akurasi, MAE, R-squared, dan MSE memberikan wawasan yang berbeda tentang kinerja model.\n",
        "\n",
        "prompt: Berikan kode untuk menampilkan metrik-metrik evaluasi model seperti skor akurasi, MAE, R-squared, dan MSE"
      ],
      "metadata": {
        "id": "wItAbLwxkCoK"
      }
    },
    {
      "cell_type": "code",
      "source": [
        "# Menampilkan skor akurasi dari model pada subset pengujian\n",
        "print(f'Score: {round(linear.score(X_test_scalar, y_test), 4)}\\n')\n",
        "\n",
        "# Menampilkan koefisien dari model regresi linear\n",
        "print(f'Coefficients: {linear.coef_}\\n')\n",
        "\n",
        "# Menampilkan mean absolute error antara prediksi dan nilai aktual\n",
        "print(f'mean_absolute_error: {metrics.mean_absolute_error(y_pred_scalar, y_test)}\\n')\n",
        "\n",
        "# Menampilkan R-squared error antara prediksi dan nilai aktual\n",
        "print(f'R square Error: {metrics.r2_score(y_pred_scalar, y_test)}\\n')\n",
        "\n",
        "# Menampilkan mean squared error antara prediksi dan nilai aktual\n",
        "print(f'Mean Squared Error: {metrics.mean_squared_error(y_pred_scalar, y_test)}\\n')"
      ],
      "metadata": {
        "colab": {
          "base_uri": "https://localhost:8080/"
        },
        "id": "9llZmWG5_ZUF",
        "outputId": "3ea439ee-d80d-4252-af1a-89d6195045f7"
      },
      "execution_count": 234,
      "outputs": [
        {
          "output_type": "stream",
          "name": "stdout",
          "text": [
            "Score: 0.7013\n",
            "\n",
            "Coefficients: [-2.00474346  0.48328624 -0.21572193  1.61039087  0.33934846  2.28836246\n",
            "  0.67797139 -0.41915567 -0.21765964 -0.12681713  0.16102906]\n",
            "\n",
            "mean_absolute_error: 1.9576030227269556\n",
            "\n",
            "R square Error: 0.402282779144549\n",
            "\n",
            "Mean Squared Error: 6.155944476941621\n",
            "\n"
          ]
        }
      ]
    },
    {
      "cell_type": "markdown",
      "source": [
        "- Akurasi model pada subset pengujian sebesar 70.13% mengindikasikan bahwa model mampu menjelaskan sekitar 70.13% variasi dalam panjang total possum pada data yang tidak terlihat sebelumnya.\n",
        "\n",
        "- MAE sekitar 1.96 unit, menunjukkan bahwa model memiliki tingkat akurasi yang dapat diterima dalam memprediksi panjang possum.\n",
        "\n",
        "- R-squared Error sebesar 0.4023 mengindikasikan bahwa model dapat menjelaskan sekitar 40.23% variasi dalam panjang possum. Masih terdapat sejumlah variasi yang tidak dapat dijelaskan oleh model.\n",
        "\n",
        "- Mean Squared Error (MSE) sebesar 6.1559 mengukur rata-rata dari kuadrat selisih antara prediksi dan nilai aktual. Nilai ini memberikan gambaran tentang sejauh mana model dapat menghasilkan prediksi yang akurat, dan nilai yang lebih rendah diinginkan."
      ],
      "metadata": {
        "id": "0Ww52Wf5maLT"
      }
    },
    {
      "cell_type": "markdown",
      "source": [
        "Menguji model regresi linear pada data baru yang belum pernah dilihat sebelumnya. Data baru di-scala menggunakan objek StandardScaler yang sama untuk menjaga konsistensi skala antara data baru dan data yang digunakan selama pelatihan model.\n",
        "\n",
        "prompt: Berikan kode untuk membuat prediksi total panjang possum berdasarkan model regresi linear yang telah dilatih menggunakan data baru"
      ],
      "metadata": {
        "id": "79ynCmKjlsNk"
      }
    },
    {
      "cell_type": "code",
      "source": [
        "# Data baru\n",
        "new_data_values = {\n",
        "    'case': 105,\n",
        "    'site': 8,\n",
        "    'age': 5.0,\n",
        "    'hdlngth': 89.0,\n",
        "    'skullw': 58.0,\n",
        "    'taill': 35.0,\n",
        "    'footlgth': 80.0,\n",
        "    'earconch': 50.0,\n",
        "    'eye': 15.0,\n",
        "    'chest': 25.0,\n",
        "    'belly': 30.0\n",
        "}\n",
        "\n",
        "\n",
        "# Buat DataFrame baru untuk data baru\n",
        "new_data = pd.DataFrame([new_data_values], columns=X.columns)\n",
        "\n",
        "# Scaling fitur-fitur dalam data baru menggunakan objek StandardScaler yang sama\n",
        "new_data_scaled = scalar.transform(new_data)\n",
        "\n",
        "# Gunakan model regresi linear yang telah dilatih untuk membuat prediksi\n",
        "prediction = linear.predict(new_data_scaled)\n",
        "\n",
        "# Tampilkan hasil prediksi\n",
        "print(f'Predicted Total Length of Possum: {prediction[0]}')"
      ],
      "metadata": {
        "colab": {
          "base_uri": "https://localhost:8080/"
        },
        "id": "8peZ2UKwHZZ_",
        "outputId": "c8383d12-d24e-4c85-fdac-fc109722010f"
      },
      "execution_count": 235,
      "outputs": [
        {
          "output_type": "stream",
          "name": "stdout",
          "text": [
            "Predicted Total Length of Possum: 82.0953145517426\n"
          ]
        }
      ]
    },
    {
      "cell_type": "markdown",
      "source": [
        "Prompt untuk kode selanjutnya: tambahkan visualisasi data setelah prediksi data baru"
      ],
      "metadata": {
        "id": "aORImOy40_UC"
      }
    },
    {
      "cell_type": "code",
      "source": [
        "# Visualisasi Perbandingan Hasil Prediksi dengan Nilai Aktual pada Subset Pengujian\n",
        "import matplotlib.pyplot as plt\n",
        "\n",
        "plt.scatter(y_test, y_pred_scalar)\n",
        "plt.xlabel(\"Actual Total Length of Possum\")\n",
        "plt.ylabel(\"Predicted Total Length of Possum\")\n",
        "plt.title(\"Actual vs Predicted Total Length of Possum on Test Set\")\n",
        "plt.show()\n",
        "\n",
        "# Analisis Residual\n",
        "residuals = y_test - y_pred_scalar\n",
        "plt.scatter(y_test, residuals)\n",
        "plt.xlabel(\"Actual Total Length of Possum\")\n",
        "plt.ylabel(\"Residuals\")\n",
        "plt.title(\"Residuals Plot\")\n",
        "plt.axhline(y=0, color='r', linestyle='--')\n",
        "plt.show()"
      ],
      "metadata": {
        "colab": {
          "base_uri": "https://localhost:8080/",
          "height": 927
        },
        "id": "_1URbdIcwzVh",
        "outputId": "e296cd1c-192b-4e2c-f115-679be782beaf"
      },
      "execution_count": 239,
      "outputs": [
        {
          "output_type": "display_data",
          "data": {
            "text/plain": [
              "<Figure size 640x480 with 1 Axes>"
            ],
            "image/png": "[encoded data removed]"
          },
          "metadata": {}
        },
        {
          "output_type": "display_data",
          "data": {
            "text/plain": [
              "<Figure size 640x480 with 1 Axes>"
            ],
            "image/png": "[encoded data removed]"
          },
          "metadata": {}
        }
      ]
    },
    {
      "cell_type": "markdown",
      "source": [
        "Sebagian besar poin terkonsentrasi di sekitar garis yang akan mewakili prediksi yang sempurna. Namun, ada juga beberapa poin yang menyebar ke atas dan ke bawah dari zona konsentrasi ini, menunjukkan bahwa ada beberapa kesalahan prediksi.\n",
        "\n",
        "Untuk analisis residual, relatif tersebar secara acak, yang menunjukkan bahwa model mungkin memiliki kecocokan yang baik."
      ],
      "metadata": {
        "id": "RkfrVamhz8ro"
      }
    }
  ]
}