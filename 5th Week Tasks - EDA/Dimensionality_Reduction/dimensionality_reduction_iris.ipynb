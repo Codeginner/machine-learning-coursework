{
  "nbformat": 4,
  "nbformat_minor": 0,
  "metadata": {
    "colab": {
      "provenance": [],
      "authorship_tag": "ABX9TyN8qUeEs7W8a/gmzI9jxPrU",
      "include_colab_link": true
    },
    "kernelspec": {
      "name": "python3",
      "display_name": "Python 3"
    },
    "language_info": {
      "name": "python"
    }
  },
  "cells": [
    {
      "cell_type": "markdown",
      "metadata": {
        "id": "view-in-github",
        "colab_type": "text"
      },
      "source": [
        "<a href=\"https://colab.research.google.com/github/Codeginner/machineLearning-task/blob/main/5th%20Week%20Tasks/Dimensionality_Reduction/dimensionality_reduction_iris.ipynb\" target=\"_parent\"><img src=\"https://colab.research.google.com/assets/colab-badge.svg\" alt=\"Open In Colab\"/></a>"
      ]
    },
    {
      "cell_type": "markdown",
      "source": [
        "Gilman Muslih Z\n",
        "\n",
        "1103201075\n",
        "\n",
        "Dimensionality Reduction"
      ],
      "metadata": {
        "id": "6khknzSXzfdb"
      }
    },
    {
      "cell_type": "code",
      "execution_count": 15,
      "metadata": {
        "id": "MZWalNPQzd3a"
      },
      "outputs": [],
      "source": [
        "# Mengimpor modul datasets untuk menggunakan dataset iris dan train_test_split untuk membagi dataset menjadi data latih dan data uji\n",
        "from sklearn import datasets\n",
        "from sklearn.model_selection import train_test_split\n",
        "\n",
        "# load dataset iris\n",
        "iris = datasets.load_iris()\n",
        "\n",
        "# mengambil attribute dari dataset iris dan menyimpannya dalam variabel atribut\n",
        "atribut = iris.data\n",
        "\n",
        "# mengambil label (target) dari dataset iris dan menyimpannya dalam variabel label\n",
        "label = iris.target\n",
        "\n",
        "# memisahkan dataset menjadi data latih dan data uji dengan rasio 80% data latih dan 20% data uji\n",
        "X_train, X_test, y_train, y_test = train_test_split(atribut, label, test_size=0.2)"
      ]
    },
    {
      "cell_type": "code",
      "source": [
        "# Mengimpor modul DecisionTreeClassifier dari sklearn.tree\n",
        "from sklearn import tree\n",
        "\n",
        "# membuat objek DecisionTreeClassifier\n",
        "decision_tree = tree.DecisionTreeClassifier()\n",
        "\n",
        "# melatih model Decision Tree pada data latih\n",
        "model_pertama = decision_tree.fit(X_train, y_train)\n",
        "\n",
        "# menghitung skor akurasi model pada data uji\n",
        "score_model_pertama = model_pertama.score(X_test, y_test)\n",
        "\n",
        "# menampilkan skor akurasi model pada data uji\n",
        "print(score_model_pertama)"
      ],
      "metadata": {
        "colab": {
          "base_uri": "https://localhost:8080/"
        },
        "id": "r16mVFDbz1cV",
        "outputId": "b1be8e4d-c885-43a3-8a35-6ebe1590643d"
      },
      "execution_count": 17,
      "outputs": [
        {
          "output_type": "stream",
          "name": "stdout",
          "text": [
            "0.9666666666666667\n"
          ]
        }
      ]
    },
    {
      "cell_type": "code",
      "source": [
        "# import modul PCA untuk analisis reduksi dimensi dan transformasi data\n",
        "from sklearn.decomposition import PCA\n",
        "\n",
        "# membuat objek PCA dengan 4 principal component\n",
        "pca = PCA(n_components=4)\n",
        "\n",
        "# mengaplikasikan PCA pada dataset\n",
        "pca_attributes = pca.fit_transform(X_train)\n",
        "\n",
        "# melihat variance dari setiap atribut\n",
        "pca.explained_variance_ratio_"
      ],
      "metadata": {
        "colab": {
          "base_uri": "https://localhost:8080/"
        },
        "id": "rBHROgVEz2mJ",
        "outputId": "ee974168-2af0-4566-b2ee-2f84d0d1a53a"
      },
      "execution_count": 19,
      "outputs": [
        {
          "output_type": "execute_result",
          "data": {
            "text/plain": [
              "array([0.92806075, 0.05104629, 0.01663272, 0.00426024])"
            ]
          },
          "metadata": {},
          "execution_count": 19
        }
      ]
    },
    {
      "cell_type": "code",
      "source": [
        "# PCA dengan 2 principal component\n",
        "# menggunakan PCA untuk mengurangi dimensi data latih\n",
        "\n",
        "# mengatur jumlah komponen utama yang diinginkan\n",
        "pca = PCA(n_components=2)\n",
        "\n",
        "# reduksi dimensi pada data latih\n",
        "X_train_pca = pca.fit_transform(X_train)\n",
        "\n",
        "# mengurangi dimensi data uji menggunakan PCA\n",
        "X_test_pca = pca.fit_transform(X_test)"
      ],
      "metadata": {
        "id": "0qLPlJyoz8E3"
      },
      "execution_count": 20,
      "outputs": []
    },
    {
      "cell_type": "code",
      "source": [
        "# uji akurasi classifier\n",
        "\n",
        "# membangun model Decision Tree dengan data latih yang sudah direduksi dimensinya menggunakan PCA\n",
        "model2 = decision_tree.fit(X_train_pca, y_train)\n",
        "\n",
        "# mengukur akurasi model Decision Tree pada data uji yang sudah direduksi dimensinya\n",
        "accuracy = model2.score(X_test_pca, y_test)\n",
        "\n",
        "# menampilkan hasil akurasi model Decision Tree\n",
        "print (accuracy)"
      ],
      "metadata": {
        "colab": {
          "base_uri": "https://localhost:8080/"
        },
        "id": "OCHiftbz0AvM",
        "outputId": "22056aed-d00b-4910-cd14-8bc26ab4334f"
      },
      "execution_count": 23,
      "outputs": [
        {
          "output_type": "stream",
          "name": "stdout",
          "text": [
            "0.9666666666666667\n"
          ]
        }
      ]
    }
  ]
}