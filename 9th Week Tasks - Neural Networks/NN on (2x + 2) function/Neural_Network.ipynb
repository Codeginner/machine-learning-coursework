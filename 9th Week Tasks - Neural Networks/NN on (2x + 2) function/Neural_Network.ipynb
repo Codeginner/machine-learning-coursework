{
  "nbformat": 4,
  "nbformat_minor": 0,
  "metadata": {
    "colab": {
      "provenance": [],
      "include_colab_link": true
    },
    "kernelspec": {
      "name": "python3",
      "display_name": "Python 3"
    },
    "language_info": {
      "name": "python"
    }
  },
  "cells": [
    {
      "cell_type": "markdown",
      "metadata": {
        "id": "view-in-github",
        "colab_type": "text"
      },
      "source": [
        "<a href=\"https://colab.research.google.com/github/Codeginner/machineLearning-task/blob/main/9th%20Week%20Tasks/NN%20on%20(2x%20%2B%202)%20function/Neural_Network.ipynb\" target=\"_parent\"><img src=\"https://colab.research.google.com/assets/colab-badge.svg\" alt=\"Open In Colab\"/></a>"
      ]
    },
    {
      "cell_type": "markdown",
      "source": [
        "Gilman Muslih Z\n",
        "\n",
        "1103201075\n",
        "\n",
        "NN on (2x + 2) function"
      ],
      "metadata": {
        "id": "egaw8QyvxQpC"
      }
    },
    {
      "cell_type": "code",
      "execution_count": 12,
      "metadata": {
        "id": "u1Vam888wNsT"
      },
      "outputs": [],
      "source": [
        "# Import modul numpy untuk melakukan operasi aritmatika\n",
        "import numpy as np\n",
        "\n",
        "# Membuat array X sebagai input model\n",
        "X = np.array([1.0, 2.0, 3.0, 4.0, 5.0, 6.0], dtype=float)\n",
        "\n",
        "# Membuat array y sebagai output yang diharapkan\n",
        "y = np.array([4.0, 6.0, 8.0, 10.0, 12.0, 14.0], dtype=float)"
      ]
    },
    {
      "cell_type": "code",
      "source": [
        "import tensorflow as tf # Import library tensorflow ntuk pembuatan dan pelatihan model machine learning\n",
        "from tensorflow import keras # Keras adalah antarmuka tingkat tinggi yang mempermudah pembuatan dan pelatihan model neural network\n",
        "\n",
        "# Membuat model neural network dengan satu layer menggunakan TensorFlow dan Keras\n",
        "model_1_layer = tf.keras.Sequential([keras.layers.Dense(units=1, input_shape=[1])])"
      ],
      "metadata": {
        "id": "eIjapIZmxan1"
      },
      "execution_count": 13,
      "outputs": []
    },
    {
      "cell_type": "code",
      "source": [
        "# Mengompilasi model dengan konfigurasi tertentu\n",
        "model_1_layer.compile(optimizer='sgd', loss='mean_squared_error')"
      ],
      "metadata": {
        "id": "OQ9m08cIzwUU"
      },
      "execution_count": 14,
      "outputs": []
    },
    {
      "cell_type": "code",
      "source": [
        "# Melakukan pelatihan model menggunakan metode fit dengan jumlah iterasi (epoch) selama pelatihan 50 epoch\n",
        "model_1_layer.fit(X, y, epochs=50)"
      ],
      "metadata": {
        "colab": {
          "base_uri": "https://localhost:8080/"
        },
        "id": "swzwDot50DsP",
        "outputId": "2cfa6e7b-21f2-4a71-f60c-e4f322a7349a"
      },
      "execution_count": 15,
      "outputs": [
        {
          "output_type": "stream",
          "name": "stdout",
          "text": [
            "Epoch 1/50\n",
            "1/1 [==============================] - 0s 393ms/step - loss: 113.8610\n",
            "Epoch 2/50\n",
            "1/1 [==============================] - 0s 16ms/step - loss: 52.8964\n",
            "Epoch 3/50\n",
            "1/1 [==============================] - 0s 13ms/step - loss: 24.6787\n",
            "Epoch 4/50\n",
            "1/1 [==============================] - 0s 13ms/step - loss: 11.6173\n",
            "Epoch 5/50\n",
            "1/1 [==============================] - 0s 11ms/step - loss: 5.5707\n",
            "Epoch 6/50\n",
            "1/1 [==============================] - 0s 11ms/step - loss: 2.7707\n",
            "Epoch 7/50\n",
            "1/1 [==============================] - 0s 11ms/step - loss: 1.4734\n",
            "Epoch 8/50\n",
            "1/1 [==============================] - 0s 8ms/step - loss: 0.8715\n",
            "Epoch 9/50\n",
            "1/1 [==============================] - 0s 6ms/step - loss: 0.5916\n",
            "Epoch 10/50\n",
            "1/1 [==============================] - 0s 12ms/step - loss: 0.4607\n",
            "Epoch 11/50\n",
            "1/1 [==============================] - 0s 8ms/step - loss: 0.3987\n",
            "Epoch 12/50\n",
            "1/1 [==============================] - 0s 10ms/step - loss: 0.3687\n",
            "Epoch 13/50\n",
            "1/1 [==============================] - 0s 10ms/step - loss: 0.3534\n",
            "Epoch 14/50\n",
            "1/1 [==============================] - 0s 11ms/step - loss: 0.3451\n",
            "Epoch 15/50\n",
            "1/1 [==============================] - 0s 11ms/step - loss: 0.3399\n",
            "Epoch 16/50\n",
            "1/1 [==============================] - 0s 7ms/step - loss: 0.3361\n",
            "Epoch 17/50\n",
            "1/1 [==============================] - 0s 8ms/step - loss: 0.3331\n",
            "Epoch 18/50\n",
            "1/1 [==============================] - 0s 11ms/step - loss: 0.3304\n",
            "Epoch 19/50\n",
            "1/1 [==============================] - 0s 13ms/step - loss: 0.3279\n",
            "Epoch 20/50\n",
            "1/1 [==============================] - 0s 10ms/step - loss: 0.3254\n",
            "Epoch 21/50\n",
            "1/1 [==============================] - 0s 12ms/step - loss: 0.3230\n",
            "Epoch 22/50\n",
            "1/1 [==============================] - 0s 10ms/step - loss: 0.3207\n",
            "Epoch 23/50\n",
            "1/1 [==============================] - 0s 9ms/step - loss: 0.3183\n",
            "Epoch 24/50\n",
            "1/1 [==============================] - 0s 8ms/step - loss: 0.3160\n",
            "Epoch 25/50\n",
            "1/1 [==============================] - 0s 6ms/step - loss: 0.3137\n",
            "Epoch 26/50\n",
            "1/1 [==============================] - 0s 7ms/step - loss: 0.3114\n",
            "Epoch 27/50\n",
            "1/1 [==============================] - 0s 8ms/step - loss: 0.3092\n",
            "Epoch 28/50\n",
            "1/1 [==============================] - 0s 6ms/step - loss: 0.3069\n",
            "Epoch 29/50\n",
            "1/1 [==============================] - 0s 10ms/step - loss: 0.3047\n",
            "Epoch 30/50\n",
            "1/1 [==============================] - 0s 6ms/step - loss: 0.3024\n",
            "Epoch 31/50\n",
            "1/1 [==============================] - 0s 8ms/step - loss: 0.3002\n",
            "Epoch 32/50\n",
            "1/1 [==============================] - 0s 6ms/step - loss: 0.2981\n",
            "Epoch 33/50\n",
            "1/1 [==============================] - 0s 10ms/step - loss: 0.2959\n",
            "Epoch 34/50\n",
            "1/1 [==============================] - 0s 6ms/step - loss: 0.2937\n",
            "Epoch 35/50\n",
            "1/1 [==============================] - 0s 6ms/step - loss: 0.2916\n",
            "Epoch 36/50\n",
            "1/1 [==============================] - 0s 11ms/step - loss: 0.2895\n",
            "Epoch 37/50\n",
            "1/1 [==============================] - 0s 7ms/step - loss: 0.2874\n",
            "Epoch 38/50\n",
            "1/1 [==============================] - 0s 9ms/step - loss: 0.2853\n",
            "Epoch 39/50\n",
            "1/1 [==============================] - 0s 6ms/step - loss: 0.2832\n",
            "Epoch 40/50\n",
            "1/1 [==============================] - 0s 11ms/step - loss: 0.2811\n",
            "Epoch 41/50\n",
            "1/1 [==============================] - 0s 7ms/step - loss: 0.2791\n",
            "Epoch 42/50\n",
            "1/1 [==============================] - 0s 11ms/step - loss: 0.2770\n",
            "Epoch 43/50\n",
            "1/1 [==============================] - 0s 6ms/step - loss: 0.2750\n",
            "Epoch 44/50\n",
            "1/1 [==============================] - 0s 14ms/step - loss: 0.2730\n",
            "Epoch 45/50\n",
            "1/1 [==============================] - 0s 6ms/step - loss: 0.2710\n",
            "Epoch 46/50\n",
            "1/1 [==============================] - 0s 6ms/step - loss: 0.2691\n",
            "Epoch 47/50\n",
            "1/1 [==============================] - 0s 6ms/step - loss: 0.2671\n",
            "Epoch 48/50\n",
            "1/1 [==============================] - 0s 6ms/step - loss: 0.2651\n",
            "Epoch 49/50\n",
            "1/1 [==============================] - 0s 11ms/step - loss: 0.2632\n",
            "Epoch 50/50\n",
            "1/1 [==============================] - 0s 6ms/step - loss: 0.2613\n"
          ]
        },
        {
          "output_type": "execute_result",
          "data": {
            "text/plain": [
              "<keras.src.callbacks.History at 0x7eff145e2f80>"
            ]
          },
          "metadata": {},
          "execution_count": 15
        }
      ]
    },
    {
      "cell_type": "markdown",
      "source": [
        "Proses pelatihan ini akan mengoptimalkan parameter-model (koefisien dan bias) untuk mencocokkan pola dalam data, dengan tujuan mengurangi nilai fungsi loss yang telah ditentukan sebelumnya (dalam hal ini, menggunakan Mean Squared Error)."
      ],
      "metadata": {
        "id": "iBok6usXMA0m"
      }
    },
    {
      "cell_type": "code",
      "source": [
        "# Melakukan prediksi menggunakan model terlatih dengan input prediksi nilai 10.0\n",
        "print(model_1_layer.predict([10.0]))"
      ],
      "metadata": {
        "colab": {
          "base_uri": "https://localhost:8080/"
        },
        "id": "ErwimHe80VP1",
        "outputId": "2a3d7757-0514-4191-9803-8495a093648a"
      },
      "execution_count": 16,
      "outputs": [
        {
          "output_type": "stream",
          "name": "stdout",
          "text": [
            "1/1 [==============================] - 0s 98ms/step\n",
            "[[23.550913]]\n"
          ]
        }
      ]
    },
    {
      "cell_type": "code",
      "source": [
        "model_1_layer.fit(X, y, epochs=100) # Melakukan pelatihan model menggunakan metode fit dengan jumlah iterasi (epoch) selama pelatihan 100 epoch"
      ],
      "metadata": {
        "colab": {
          "base_uri": "https://localhost:8080/"
        },
        "id": "8cOLfyeS1v3Y",
        "outputId": "34c75dd8-f326-4cbd-8eed-5c18cfb6408c"
      },
      "execution_count": 17,
      "outputs": [
        {
          "output_type": "stream",
          "name": "stdout",
          "text": [
            "Epoch 1/100\n",
            "1/1 [==============================] - 0s 9ms/step - loss: 0.2594\n",
            "Epoch 2/100\n",
            "1/1 [==============================] - 0s 8ms/step - loss: 0.2575\n",
            "Epoch 3/100\n",
            "1/1 [==============================] - 0s 9ms/step - loss: 0.2556\n",
            "Epoch 4/100\n",
            "1/1 [==============================] - 0s 8ms/step - loss: 0.2538\n",
            "Epoch 5/100\n",
            "1/1 [==============================] - 0s 7ms/step - loss: 0.2519\n",
            "Epoch 6/100\n",
            "1/1 [==============================] - 0s 9ms/step - loss: 0.2501\n",
            "Epoch 7/100\n",
            "1/1 [==============================] - 0s 8ms/step - loss: 0.2483\n",
            "Epoch 8/100\n",
            "1/1 [==============================] - 0s 8ms/step - loss: 0.2465\n",
            "Epoch 9/100\n",
            "1/1 [==============================] - 0s 9ms/step - loss: 0.2447\n",
            "Epoch 10/100\n",
            "1/1 [==============================] - 0s 9ms/step - loss: 0.2429\n",
            "Epoch 11/100\n",
            "1/1 [==============================] - 0s 8ms/step - loss: 0.2411\n",
            "Epoch 12/100\n",
            "1/1 [==============================] - 0s 10ms/step - loss: 0.2393\n",
            "Epoch 13/100\n",
            "1/1 [==============================] - 0s 9ms/step - loss: 0.2376\n",
            "Epoch 14/100\n",
            "1/1 [==============================] - 0s 10ms/step - loss: 0.2359\n",
            "Epoch 15/100\n",
            "1/1 [==============================] - 0s 7ms/step - loss: 0.2342\n",
            "Epoch 16/100\n",
            "1/1 [==============================] - 0s 9ms/step - loss: 0.2324\n",
            "Epoch 17/100\n",
            "1/1 [==============================] - 0s 10ms/step - loss: 0.2308\n",
            "Epoch 18/100\n",
            "1/1 [==============================] - 0s 7ms/step - loss: 0.2291\n",
            "Epoch 19/100\n",
            "1/1 [==============================] - 0s 10ms/step - loss: 0.2274\n",
            "Epoch 20/100\n",
            "1/1 [==============================] - 0s 7ms/step - loss: 0.2257\n",
            "Epoch 21/100\n",
            "1/1 [==============================] - 0s 10ms/step - loss: 0.2241\n",
            "Epoch 22/100\n",
            "1/1 [==============================] - 0s 7ms/step - loss: 0.2225\n",
            "Epoch 23/100\n",
            "1/1 [==============================] - 0s 11ms/step - loss: 0.2209\n",
            "Epoch 24/100\n",
            "1/1 [==============================] - 0s 7ms/step - loss: 0.2192\n",
            "Epoch 25/100\n",
            "1/1 [==============================] - 0s 11ms/step - loss: 0.2176\n",
            "Epoch 26/100\n",
            "1/1 [==============================] - 0s 7ms/step - loss: 0.2161\n",
            "Epoch 27/100\n",
            "1/1 [==============================] - 0s 11ms/step - loss: 0.2145\n",
            "Epoch 28/100\n",
            "1/1 [==============================] - 0s 7ms/step - loss: 0.2129\n",
            "Epoch 29/100\n",
            "1/1 [==============================] - 0s 11ms/step - loss: 0.2114\n",
            "Epoch 30/100\n",
            "1/1 [==============================] - 0s 7ms/step - loss: 0.2098\n",
            "Epoch 31/100\n",
            "1/1 [==============================] - 0s 10ms/step - loss: 0.2083\n",
            "Epoch 32/100\n",
            "1/1 [==============================] - 0s 7ms/step - loss: 0.2068\n",
            "Epoch 33/100\n",
            "1/1 [==============================] - 0s 11ms/step - loss: 0.2053\n",
            "Epoch 34/100\n",
            "1/1 [==============================] - 0s 7ms/step - loss: 0.2038\n",
            "Epoch 35/100\n",
            "1/1 [==============================] - 0s 11ms/step - loss: 0.2023\n",
            "Epoch 36/100\n",
            "1/1 [==============================] - 0s 7ms/step - loss: 0.2008\n",
            "Epoch 37/100\n",
            "1/1 [==============================] - 0s 14ms/step - loss: 0.1994\n",
            "Epoch 38/100\n",
            "1/1 [==============================] - 0s 9ms/step - loss: 0.1979\n",
            "Epoch 39/100\n",
            "1/1 [==============================] - 0s 13ms/step - loss: 0.1965\n",
            "Epoch 40/100\n",
            "1/1 [==============================] - 0s 13ms/step - loss: 0.1950\n",
            "Epoch 41/100\n",
            "1/1 [==============================] - 0s 12ms/step - loss: 0.1936\n",
            "Epoch 42/100\n",
            "1/1 [==============================] - 0s 7ms/step - loss: 0.1922\n",
            "Epoch 43/100\n",
            "1/1 [==============================] - 0s 15ms/step - loss: 0.1908\n",
            "Epoch 44/100\n",
            "1/1 [==============================] - 0s 14ms/step - loss: 0.1894\n",
            "Epoch 45/100\n",
            "1/1 [==============================] - 0s 7ms/step - loss: 0.1880\n",
            "Epoch 46/100\n",
            "1/1 [==============================] - 0s 8ms/step - loss: 0.1867\n",
            "Epoch 47/100\n",
            "1/1 [==============================] - 0s 11ms/step - loss: 0.1853\n",
            "Epoch 48/100\n",
            "1/1 [==============================] - 0s 7ms/step - loss: 0.1840\n",
            "Epoch 49/100\n",
            "1/1 [==============================] - 0s 11ms/step - loss: 0.1826\n",
            "Epoch 50/100\n",
            "1/1 [==============================] - 0s 7ms/step - loss: 0.1813\n",
            "Epoch 51/100\n",
            "1/1 [==============================] - 0s 11ms/step - loss: 0.1800\n",
            "Epoch 52/100\n",
            "1/1 [==============================] - 0s 7ms/step - loss: 0.1787\n",
            "Epoch 53/100\n",
            "1/1 [==============================] - 0s 12ms/step - loss: 0.1773\n",
            "Epoch 54/100\n",
            "1/1 [==============================] - 0s 7ms/step - loss: 0.1761\n",
            "Epoch 55/100\n",
            "1/1 [==============================] - 0s 10ms/step - loss: 0.1748\n",
            "Epoch 56/100\n",
            "1/1 [==============================] - 0s 7ms/step - loss: 0.1735\n",
            "Epoch 57/100\n",
            "1/1 [==============================] - 0s 7ms/step - loss: 0.1722\n",
            "Epoch 58/100\n",
            "1/1 [==============================] - 0s 10ms/step - loss: 0.1710\n",
            "Epoch 59/100\n",
            "1/1 [==============================] - 0s 8ms/step - loss: 0.1697\n",
            "Epoch 60/100\n",
            "1/1 [==============================] - 0s 12ms/step - loss: 0.1685\n",
            "Epoch 61/100\n",
            "1/1 [==============================] - 0s 8ms/step - loss: 0.1673\n",
            "Epoch 62/100\n",
            "1/1 [==============================] - 0s 7ms/step - loss: 0.1661\n",
            "Epoch 63/100\n",
            "1/1 [==============================] - 0s 12ms/step - loss: 0.1648\n",
            "Epoch 64/100\n",
            "1/1 [==============================] - 0s 11ms/step - loss: 0.1636\n",
            "Epoch 65/100\n",
            "1/1 [==============================] - 0s 10ms/step - loss: 0.1625\n",
            "Epoch 66/100\n",
            "1/1 [==============================] - 0s 9ms/step - loss: 0.1613\n",
            "Epoch 67/100\n",
            "1/1 [==============================] - 0s 9ms/step - loss: 0.1601\n",
            "Epoch 68/100\n",
            "1/1 [==============================] - 0s 9ms/step - loss: 0.1589\n",
            "Epoch 69/100\n",
            "1/1 [==============================] - 0s 9ms/step - loss: 0.1578\n",
            "Epoch 70/100\n",
            "1/1 [==============================] - 0s 11ms/step - loss: 0.1566\n",
            "Epoch 71/100\n",
            "1/1 [==============================] - 0s 9ms/step - loss: 0.1555\n",
            "Epoch 72/100\n",
            "1/1 [==============================] - 0s 9ms/step - loss: 0.1543\n",
            "Epoch 73/100\n",
            "1/1 [==============================] - 0s 10ms/step - loss: 0.1532\n",
            "Epoch 74/100\n",
            "1/1 [==============================] - 0s 10ms/step - loss: 0.1521\n",
            "Epoch 75/100\n",
            "1/1 [==============================] - 0s 9ms/step - loss: 0.1510\n",
            "Epoch 76/100\n",
            "1/1 [==============================] - 0s 8ms/step - loss: 0.1499\n",
            "Epoch 77/100\n",
            "1/1 [==============================] - 0s 8ms/step - loss: 0.1488\n",
            "Epoch 78/100\n",
            "1/1 [==============================] - 0s 8ms/step - loss: 0.1477\n",
            "Epoch 79/100\n",
            "1/1 [==============================] - 0s 9ms/step - loss: 0.1466\n",
            "Epoch 80/100\n",
            "1/1 [==============================] - 0s 10ms/step - loss: 0.1456\n",
            "Epoch 81/100\n",
            "1/1 [==============================] - 0s 10ms/step - loss: 0.1445\n",
            "Epoch 82/100\n",
            "1/1 [==============================] - 0s 9ms/step - loss: 0.1435\n",
            "Epoch 83/100\n",
            "1/1 [==============================] - 0s 8ms/step - loss: 0.1424\n",
            "Epoch 84/100\n",
            "1/1 [==============================] - 0s 8ms/step - loss: 0.1414\n",
            "Epoch 85/100\n",
            "1/1 [==============================] - 0s 8ms/step - loss: 0.1403\n",
            "Epoch 86/100\n",
            "1/1 [==============================] - 0s 7ms/step - loss: 0.1393\n",
            "Epoch 87/100\n",
            "1/1 [==============================] - 0s 9ms/step - loss: 0.1383\n",
            "Epoch 88/100\n",
            "1/1 [==============================] - 0s 9ms/step - loss: 0.1373\n",
            "Epoch 89/100\n",
            "1/1 [==============================] - 0s 13ms/step - loss: 0.1363\n",
            "Epoch 90/100\n",
            "1/1 [==============================] - 0s 9ms/step - loss: 0.1353\n",
            "Epoch 91/100\n",
            "1/1 [==============================] - 0s 9ms/step - loss: 0.1343\n",
            "Epoch 92/100\n",
            "1/1 [==============================] - 0s 9ms/step - loss: 0.1333\n",
            "Epoch 93/100\n",
            "1/1 [==============================] - 0s 14ms/step - loss: 0.1324\n",
            "Epoch 94/100\n",
            "1/1 [==============================] - 0s 9ms/step - loss: 0.1314\n",
            "Epoch 95/100\n",
            "1/1 [==============================] - 0s 7ms/step - loss: 0.1305\n",
            "Epoch 96/100\n",
            "1/1 [==============================] - 0s 8ms/step - loss: 0.1295\n",
            "Epoch 97/100\n",
            "1/1 [==============================] - 0s 12ms/step - loss: 0.1286\n",
            "Epoch 98/100\n",
            "1/1 [==============================] - 0s 10ms/step - loss: 0.1276\n",
            "Epoch 99/100\n",
            "1/1 [==============================] - 0s 9ms/step - loss: 0.1267\n",
            "Epoch 100/100\n",
            "1/1 [==============================] - 0s 9ms/step - loss: 0.1258\n"
          ]
        },
        {
          "output_type": "execute_result",
          "data": {
            "text/plain": [
              "<keras.src.callbacks.History at 0x7eff145e2800>"
            ]
          },
          "metadata": {},
          "execution_count": 17
        }
      ]
    },
    {
      "cell_type": "markdown",
      "source": [
        "Proses pelatihan ini akan melanjutkan peningkatan parameter-model untuk lebih meningkatkan kemampuan model dalam mencocokkan pola dalam data pelatihan. Jumlah epoch yang lebih besar bisa membantu model untuk terus mengoptimalkan parameter hingga batas yang diperlukan."
      ],
      "metadata": {
        "id": "cHfRhV6kMIeP"
      }
    },
    {
      "cell_type": "code",
      "source": [
        "print(model_1_layer.predict([10.0]))"
      ],
      "metadata": {
        "colab": {
          "base_uri": "https://localhost:8080/"
        },
        "id": "agRrAjmc1v-q",
        "outputId": "9c09ed00-de5b-479f-cce2-3f0dc31df61b"
      },
      "execution_count": 18,
      "outputs": [
        {
          "output_type": "stream",
          "name": "stdout",
          "text": [
            "1/1 [==============================] - 0s 81ms/step\n",
            "[[23.07598]]\n"
          ]
        }
      ]
    },
    {
      "cell_type": "markdown",
      "source": [
        "Model yang telah dilatih memprediksi bahwa output yang diharapkan untuk input [10.0] adalah sekitar 23.18762. Dengan kata lain, model menghasilkan perkiraan output berdasarkan pola yang telah dikenal saat dilatih pada data sebelumnya."
      ],
      "metadata": {
        "id": "Dcus6jbRMeyH"
      }
    },
    {
      "cell_type": "code",
      "source": [
        "# membuat model neural network dengan tiga layer\n",
        "model_3_layer = tf.keras.Sequential([\n",
        "    # Layer pertama (input layer) dengan 1 neuron, input_shape=[1] menunjukkan satu fitur input\n",
        "    keras.layers.Dense(units=1, input_shape=[1]),\n",
        "\n",
        "    # Layer kedua (hidden layer) dengan 8 neuron\n",
        "    keras.layers.Dense(units=8),\n",
        "\n",
        "    # Layer ketiga (output layer) dengan 1 neuron\n",
        "    keras.layers.Dense(units=1)\n",
        "])"
      ],
      "metadata": {
        "id": "PQ0BG-lh0him"
      },
      "execution_count": 19,
      "outputs": []
    },
    {
      "cell_type": "code",
      "source": [
        "# mengompilasi model neural network dengan konfigurasi tertentu\n",
        "model_3_layer.compile(optimizer='sgd', loss='mean_squared_error')"
      ],
      "metadata": {
        "id": "I75Ti82J0kn9"
      },
      "execution_count": 20,
      "outputs": []
    },
    {
      "cell_type": "code",
      "source": [
        "# melatih model selama 100 epoch\n",
        "model_3_layer.fit(X, y, epochs=100)"
      ],
      "metadata": {
        "colab": {
          "base_uri": "https://localhost:8080/"
        },
        "id": "FQozrNqs0niv",
        "outputId": "88522b9d-6c55-42c3-c7f8-9e03ed2116b5"
      },
      "execution_count": 21,
      "outputs": [
        {
          "output_type": "stream",
          "name": "stdout",
          "text": [
            "Epoch 1/100\n",
            "1/1 [==============================] - 1s 701ms/step - loss: 96.8866\n",
            "Epoch 2/100\n",
            "1/1 [==============================] - 0s 15ms/step - loss: 4.2966\n",
            "Epoch 3/100\n",
            "1/1 [==============================] - 0s 12ms/step - loss: 18.9528\n",
            "Epoch 4/100\n",
            "1/1 [==============================] - 0s 18ms/step - loss: 24.1087\n",
            "Epoch 5/100\n",
            "1/1 [==============================] - 0s 16ms/step - loss: 75.2526\n",
            "Epoch 6/100\n",
            "1/1 [==============================] - 0s 14ms/step - loss: 43.5748\n",
            "Epoch 7/100\n",
            "1/1 [==============================] - 0s 10ms/step - loss: 0.6441\n",
            "Epoch 8/100\n",
            "1/1 [==============================] - 0s 14ms/step - loss: 1.6349\n",
            "Epoch 9/100\n",
            "1/1 [==============================] - 0s 15ms/step - loss: 5.7860\n",
            "Epoch 10/100\n",
            "1/1 [==============================] - 0s 13ms/step - loss: 11.1164\n",
            "Epoch 11/100\n",
            "1/1 [==============================] - 0s 11ms/step - loss: 38.8572\n",
            "Epoch 12/100\n",
            "1/1 [==============================] - 0s 10ms/step - loss: 0.1457\n",
            "Epoch 13/100\n",
            "1/1 [==============================] - 0s 11ms/step - loss: 0.2348\n",
            "Epoch 14/100\n",
            "1/1 [==============================] - 0s 12ms/step - loss: 0.5615\n",
            "Epoch 15/100\n",
            "1/1 [==============================] - 0s 11ms/step - loss: 1.4580\n",
            "Epoch 16/100\n",
            "1/1 [==============================] - 0s 11ms/step - loss: 5.0425\n",
            "Epoch 17/100\n",
            "1/1 [==============================] - 0s 18ms/step - loss: 9.2766\n",
            "Epoch 18/100\n",
            "1/1 [==============================] - 0s 14ms/step - loss: 31.9436\n",
            "Epoch 19/100\n",
            "1/1 [==============================] - 0s 10ms/step - loss: 0.6418\n",
            "Epoch 20/100\n",
            "1/1 [==============================] - 0s 9ms/step - loss: 2.0504\n",
            "Epoch 21/100\n",
            "1/1 [==============================] - 0s 9ms/step - loss: 4.6308\n",
            "Epoch 22/100\n",
            "1/1 [==============================] - 0s 9ms/step - loss: 16.1115\n",
            "Epoch 23/100\n",
            "1/1 [==============================] - 0s 9ms/step - loss: 8.5104\n",
            "Epoch 24/100\n",
            "1/1 [==============================] - 0s 9ms/step - loss: 28.3413\n",
            "Epoch 25/100\n",
            "1/1 [==============================] - 0s 10ms/step - loss: 1.1581\n",
            "Epoch 26/100\n",
            "1/1 [==============================] - 0s 9ms/step - loss: 3.7444\n",
            "Epoch 27/100\n",
            "1/1 [==============================] - 0s 9ms/step - loss: 6.5706\n",
            "Epoch 28/100\n",
            "1/1 [==============================] - 0s 9ms/step - loss: 21.6639\n",
            "Epoch 29/100\n",
            "1/1 [==============================] - 0s 9ms/step - loss: 3.8272\n",
            "Epoch 30/100\n",
            "1/1 [==============================] - 0s 9ms/step - loss: 12.5009\n",
            "Epoch 31/100\n",
            "1/1 [==============================] - 0s 9ms/step - loss: 8.0356\n",
            "Epoch 32/100\n",
            "1/1 [==============================] - 0s 9ms/step - loss: 25.3845\n",
            "Epoch 33/100\n",
            "1/1 [==============================] - 0s 9ms/step - loss: 1.3339\n",
            "Epoch 34/100\n",
            "1/1 [==============================] - 0s 9ms/step - loss: 4.0722\n",
            "Epoch 35/100\n",
            "1/1 [==============================] - 0s 12ms/step - loss: 6.0811\n",
            "Epoch 36/100\n",
            "1/1 [==============================] - 0s 9ms/step - loss: 18.9722\n",
            "Epoch 37/100\n",
            "1/1 [==============================] - 0s 9ms/step - loss: 3.8841\n",
            "Epoch 38/100\n",
            "1/1 [==============================] - 0s 9ms/step - loss: 11.9394\n",
            "Epoch 39/100\n",
            "1/1 [==============================] - 0s 14ms/step - loss: 6.7408\n",
            "Epoch 40/100\n",
            "1/1 [==============================] - 0s 12ms/step - loss: 20.3536\n",
            "Epoch 41/100\n",
            "1/1 [==============================] - 0s 12ms/step - loss: 2.5966\n",
            "Epoch 42/100\n",
            "1/1 [==============================] - 0s 11ms/step - loss: 7.6361\n",
            "Epoch 43/100\n",
            "1/1 [==============================] - 0s 11ms/step - loss: 6.7148\n",
            "Epoch 44/100\n",
            "1/1 [==============================] - 0s 12ms/step - loss: 19.7510\n",
            "Epoch 45/100\n",
            "1/1 [==============================] - 0s 9ms/step - loss: 2.4182\n",
            "Epoch 46/100\n",
            "1/1 [==============================] - 0s 8ms/step - loss: 6.8738\n",
            "Epoch 47/100\n",
            "1/1 [==============================] - 0s 9ms/step - loss: 6.1876\n",
            "Epoch 48/100\n",
            "1/1 [==============================] - 0s 9ms/step - loss: 17.7826\n",
            "Epoch 49/100\n",
            "1/1 [==============================] - 0s 9ms/step - loss: 2.8947\n",
            "Epoch 50/100\n",
            "1/1 [==============================] - 0s 11ms/step - loss: 8.0623\n",
            "Epoch 51/100\n",
            "1/1 [==============================] - 0s 11ms/step - loss: 5.8724\n",
            "Epoch 52/100\n",
            "1/1 [==============================] - 0s 9ms/step - loss: 16.4712\n",
            "Epoch 53/100\n",
            "1/1 [==============================] - 0s 9ms/step - loss: 3.0794\n",
            "Epoch 54/100\n",
            "1/1 [==============================] - 0s 8ms/step - loss: 8.3672\n",
            "Epoch 55/100\n",
            "1/1 [==============================] - 0s 10ms/step - loss: 5.4829\n",
            "Epoch 56/100\n",
            "1/1 [==============================] - 0s 10ms/step - loss: 15.0116\n",
            "Epoch 57/100\n",
            "1/1 [==============================] - 0s 10ms/step - loss: 3.3342\n",
            "Epoch 58/100\n",
            "1/1 [==============================] - 0s 10ms/step - loss: 8.8621\n",
            "Epoch 59/100\n",
            "1/1 [==============================] - 0s 11ms/step - loss: 5.0871\n",
            "Epoch 60/100\n",
            "1/1 [==============================] - 0s 12ms/step - loss: 13.5926\n",
            "Epoch 61/100\n",
            "1/1 [==============================] - 0s 10ms/step - loss: 3.5631\n",
            "Epoch 62/100\n",
            "1/1 [==============================] - 0s 10ms/step - loss: 9.2743\n",
            "Epoch 63/100\n",
            "1/1 [==============================] - 0s 10ms/step - loss: 4.7073\n",
            "Epoch 64/100\n",
            "1/1 [==============================] - 0s 10ms/step - loss: 12.2734\n",
            "Epoch 65/100\n",
            "1/1 [==============================] - 0s 10ms/step - loss: 3.7361\n",
            "Epoch 66/100\n",
            "1/1 [==============================] - 0s 9ms/step - loss: 9.5303\n",
            "Epoch 67/100\n",
            "1/1 [==============================] - 0s 9ms/step - loss: 4.3734\n",
            "Epoch 68/100\n",
            "1/1 [==============================] - 0s 10ms/step - loss: 11.1303\n",
            "Epoch 69/100\n",
            "1/1 [==============================] - 0s 10ms/step - loss: 3.8289\n",
            "Epoch 70/100\n",
            "1/1 [==============================] - 0s 9ms/step - loss: 9.5758\n",
            "Epoch 71/100\n",
            "1/1 [==============================] - 0s 11ms/step - loss: 4.1096\n",
            "Epoch 72/100\n",
            "1/1 [==============================] - 0s 12ms/step - loss: 10.2190\n",
            "Epoch 73/100\n",
            "1/1 [==============================] - 0s 10ms/step - loss: 3.8390\n",
            "Epoch 74/100\n",
            "1/1 [==============================] - 0s 10ms/step - loss: 9.4159\n",
            "Epoch 75/100\n",
            "1/1 [==============================] - 0s 10ms/step - loss: 3.9179\n",
            "Epoch 76/100\n",
            "1/1 [==============================] - 0s 11ms/step - loss: 9.5336\n",
            "Epoch 77/100\n",
            "1/1 [==============================] - 0s 10ms/step - loss: 3.7884\n",
            "Epoch 78/100\n",
            "1/1 [==============================] - 0s 13ms/step - loss: 9.1161\n",
            "Epoch 79/100\n",
            "1/1 [==============================] - 0s 8ms/step - loss: 3.7787\n",
            "Epoch 80/100\n",
            "1/1 [==============================] - 0s 9ms/step - loss: 9.0133\n",
            "Epoch 81/100\n",
            "1/1 [==============================] - 0s 10ms/step - loss: 3.7069\n",
            "Epoch 82/100\n",
            "1/1 [==============================] - 0s 9ms/step - loss: 8.7567\n",
            "Epoch 83/100\n",
            "1/1 [==============================] - 0s 9ms/step - loss: 3.6682\n",
            "Epoch 84/100\n",
            "1/1 [==============================] - 0s 10ms/step - loss: 8.5896\n",
            "Epoch 85/100\n",
            "1/1 [==============================] - 0s 10ms/step - loss: 3.6157\n",
            "Epoch 86/100\n",
            "1/1 [==============================] - 0s 9ms/step - loss: 8.3922\n",
            "Epoch 87/100\n",
            "1/1 [==============================] - 0s 10ms/step - loss: 3.5711\n",
            "Epoch 88/100\n",
            "1/1 [==============================] - 0s 13ms/step - loss: 8.2193\n",
            "Epoch 89/100\n",
            "1/1 [==============================] - 0s 14ms/step - loss: 3.5249\n",
            "Epoch 90/100\n",
            "1/1 [==============================] - 0s 13ms/step - loss: 8.0464\n",
            "Epoch 91/100\n",
            "1/1 [==============================] - 0s 10ms/step - loss: 3.4809\n",
            "Epoch 92/100\n",
            "1/1 [==============================] - 0s 9ms/step - loss: 7.8831\n",
            "Epoch 93/100\n",
            "1/1 [==============================] - 0s 9ms/step - loss: 3.4376\n",
            "Epoch 94/100\n",
            "1/1 [==============================] - 0s 9ms/step - loss: 7.7251\n",
            "Epoch 95/100\n",
            "1/1 [==============================] - 0s 8ms/step - loss: 3.3955\n",
            "Epoch 96/100\n",
            "1/1 [==============================] - 0s 9ms/step - loss: 7.5736\n",
            "Epoch 97/100\n",
            "1/1 [==============================] - 0s 8ms/step - loss: 3.3544\n",
            "Epoch 98/100\n",
            "1/1 [==============================] - 0s 10ms/step - loss: 7.4277\n",
            "Epoch 99/100\n",
            "1/1 [==============================] - 0s 9ms/step - loss: 3.3143\n",
            "Epoch 100/100\n",
            "1/1 [==============================] - 0s 10ms/step - loss: 7.2873\n"
          ]
        },
        {
          "output_type": "execute_result",
          "data": {
            "text/plain": [
              "<keras.src.callbacks.History at 0x7eff1166d180>"
            ]
          },
          "metadata": {},
          "execution_count": 21
        }
      ]
    },
    {
      "cell_type": "code",
      "source": [
        "# Menampilkan hasil prediksi\n",
        "print(model_3_layer.predict([10.0]))"
      ],
      "metadata": {
        "colab": {
          "base_uri": "https://localhost:8080/"
        },
        "id": "QzfCCUUb0rnf",
        "outputId": "c79272a0-3863-4985-91f3-7eb91c1b34fe"
      },
      "execution_count": 22,
      "outputs": [
        {
          "output_type": "stream",
          "name": "stdout",
          "text": [
            "1/1 [==============================] - 0s 76ms/step\n",
            "[[25.321419]]\n"
          ]
        }
      ]
    },
    {
      "cell_type": "markdown",
      "source": [
        "Output dari model model_3_layer setelah melalui proses pelatihan 100 epoch  untuk memprediksi output untuk input 10.0 adalah sekitar 25.321419."
      ],
      "metadata": {
        "id": "gTQF56aPOdW8"
      }
    }
  ]
}